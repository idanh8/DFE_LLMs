{
  "cells": [
    {
      "cell_type": "markdown",
      "metadata": {
        "id": "mK-Uv-XpCni3"
      },
      "source": [
        "### Imports"
      ]
    },
    {
      "cell_type": "code",
      "execution_count": null,
      "metadata": {
        "id": "EE8OSfkWCD4S",
        "colab": {
          "base_uri": "https://localhost:8080/"
        },
        "outputId": "dadaf750-5c42-475a-b62f-daeaad2d5c1e"
      },
      "outputs": [
        {
          "output_type": "stream",
          "name": "stdout",
          "text": [
            "\u001b[2K   \u001b[90m━━━━━━━━━━━━━━━━━━━━━━━━━━━━━━━━━━━━━━━━\u001b[0m \u001b[32m165.0/165.0 kB\u001b[0m \u001b[31m2.7 MB/s\u001b[0m eta \u001b[36m0:00:00\u001b[0m\n",
            "\u001b[2K   \u001b[90m━━━━━━━━━━━━━━━━━━━━━━━━━━━━━━━━━━━━━━━━\u001b[0m \u001b[32m725.4/725.4 kB\u001b[0m \u001b[31m14.4 MB/s\u001b[0m eta \u001b[36m0:00:00\u001b[0m\n",
            "\u001b[?25h"
          ]
        }
      ],
      "source": [
        "!pip install -q -U google-generativeai"
      ]
    },
    {
      "cell_type": "code",
      "execution_count": null,
      "metadata": {
        "colab": {
          "base_uri": "https://localhost:8080/"
        },
        "id": "0qZ2jSiXlT-E",
        "outputId": "07966185-c954-4ae0-ce3a-8662d130712d"
      },
      "outputs": [
        {
          "output_type": "stream",
          "name": "stdout",
          "text": [
            "\u001b[?25l   \u001b[90m━━━━━━━━━━━━━━━━━━━━━━━━━━━━━━━━━━━━━━━━\u001b[0m \u001b[32m0.0/375.0 kB\u001b[0m \u001b[31m?\u001b[0m eta \u001b[36m-:--:--\u001b[0m\r\u001b[2K   \u001b[90m━━━━━━━━━━━━━━━━━━━━━━━━━━━━━━━━━━━━━━━━\u001b[0m \u001b[32m375.0/375.0 kB\u001b[0m \u001b[31m11.9 MB/s\u001b[0m eta \u001b[36m0:00:00\u001b[0m\n",
            "\u001b[2K   \u001b[90m━━━━━━━━━━━━━━━━━━━━━━━━━━━━━━━━━━━━━━━━\u001b[0m \u001b[32m76.4/76.4 kB\u001b[0m \u001b[31m6.7 MB/s\u001b[0m eta \u001b[36m0:00:00\u001b[0m\n",
            "\u001b[2K   \u001b[90m━━━━━━━━━━━━━━━━━━━━━━━━━━━━━━━━━━━━━━━━\u001b[0m \u001b[32m77.9/77.9 kB\u001b[0m \u001b[31m4.5 MB/s\u001b[0m eta \u001b[36m0:00:00\u001b[0m\n",
            "\u001b[2K   \u001b[90m━━━━━━━━━━━━━━━━━━━━━━━━━━━━━━━━━━━━━━━━\u001b[0m \u001b[32m318.9/318.9 kB\u001b[0m \u001b[31m5.7 MB/s\u001b[0m eta \u001b[36m0:00:00\u001b[0m\n",
            "\u001b[2K   \u001b[90m━━━━━━━━━━━━━━━━━━━━━━━━━━━━━━━━━━━━━━━━\u001b[0m \u001b[32m58.3/58.3 kB\u001b[0m \u001b[31m3.3 MB/s\u001b[0m eta \u001b[36m0:00:00\u001b[0m\n",
            "\u001b[?25h"
          ]
        }
      ],
      "source": [
        "!pip install -q -U openai"
      ]
    },
    {
      "cell_type": "code",
      "execution_count": null,
      "metadata": {
        "id": "JEO9rtiXCqAM"
      },
      "outputs": [],
      "source": [
        "import google.generativeai as genai\n",
        "import numpy as np\n",
        "import pandas as pd\n",
        "import re\n",
        "import copy\n",
        "import requests\n",
        "import time\n",
        "from openai import OpenAI\n",
        "from tqdm import tqdm\n",
        "from requests.exceptions import HTTPError, Timeout, RequestException\n",
        "from enum import Enum\n",
        "import datetime\n",
        "import os\n",
        "import pytz"
      ]
    },
    {
      "cell_type": "markdown",
      "metadata": {
        "id": "zqJEbyaqCwO1"
      },
      "source": [
        "### Classes"
      ]
    },
    {
      "cell_type": "code",
      "execution_count": null,
      "metadata": {
        "id": "CTrEQM5PVF2t"
      },
      "outputs": [],
      "source": [
        "class Prompts(Enum):\n",
        "    initial =  \"The current experiment includes many trials. Your task, in each trial, is to select one of two options, A or B. Each selection will be followed by the presentation of both choice’s payoffs. Your payoff for the trial is the payoff of the selection you made. To begin, please select A or B. Respond only with the letter 'A' or 'B', indicating your choice. Do not provide an explanation, reason, or any additional text. If you respond with anything other than a single letter (A or B), the answer will be considered incorrect.\"\n",
        "    initial_a = \"The current experiment includes many trials. Your task, in each trial, is to select one of two options, A or B. Each selection will be followed by the presentation of both choice’s payoffs. Your payoff for the trial is the payoff of the selection you made.\"\n",
        "    initial_b = \"To begin, please select A or B. Respond only with the letter 'A' or 'B', indicating your choice.Do not provide an explanation, reason, or any additional text. If you respond with anything other than a single letter (A or B), the answer will be considered incorrect.\"\n",
        "    cont = \"Please make a new selection, responding only with the letter 'A' or 'B', indicating your choice. Respond with only the letter of your choice (A or B) and nothing else. Do not provide an explanation, reason, or any additional text. If you respond with anything other than a single letter (A or B), the answer will be considered incorrect.\"\n",
        "    hist_dict = \"The following summarizes the past rounds, where 'choice' is what you chose, 'outcome' is what you recieved, and 'alternative' is what you would have recieved, had you chosen the other option. The numbers represent which round this occured in.\"\n",
        "    hist_chat = \"The following is the chat history of the past rounds, where keys called 'User' indicate the chat prompts, and those entitled 'Agent' indicate your past choices in this trial.\"\n",
        "\n",
        "    init_reasoning =  \"The current experiment includes many trials. Your task, in each trial, is to select one of two options, A or B. Each selection will be followed by the presentation of both choice’s payoffs. Your payoff for the trial is the payoff of the selection you made. To begin, please select A or B. Your resposne must begin with the letter 'A' or 'B', indicating your choice, followed by a short motivation for your choice.\"\n",
        "    cont_reasoning = \"Please make a new selection, first responding with the letter 'A' or 'B', indicating your choice, followed by a short motivation for your choice. Respond first only the letter of your choice (A or B) and afterwards provide an explanation.\""
      ]
    },
    {
      "cell_type": "code",
      "execution_count": null,
      "metadata": {
        "id": "sYuPxbKcElRp"
      },
      "outputs": [],
      "source": [
        "class GeminiModel:\n",
        "  def __init__(self, api_key: str, model_name: str = 'gemini-1.5-flash',  provide_history: (str | None) = None, temp: float = 1):\n",
        "    genai.configure(api_key=api_key)\n",
        "    self.model_name = model_name\n",
        "    self.temp = temp\n",
        "    self.generation_config = {\"temperature\": self.temp, \"top_p\": 0.95, \"top_k\": 64, \"max_output_tokens\": 8192, \"response_mime_type\": \"text/plain\"}\n",
        "    self.model = genai.GenerativeModel(model_name = self.model_name, generation_config=self.generation_config)\n",
        "    self.history_provided = provide_history\n",
        "    self.messages = [{\"role\": \"user\", \"parts\": Prompts.initial.value}] if self.history_provided == 'chat' else Prompts.initial.value\n",
        "    self.history = {} if self.history_provided else self.model.start_chat(history=[])\n",
        "\n",
        "  def generate_response(self):\n",
        "    return self.model.generate_content(self.messages) if self.history_provided else self.history.send_message(self.messages)\n",
        "\n",
        "  def set_prompt(self, round_details: dict):\n",
        "    round_num = max(round_details.keys())\n",
        "    prev_round = round_details[round_num]\n",
        "    prev_alt = 'B' if prev_round['choice'] == 'A' else 'A'\n",
        "    if self.history_provided == 'all':\n",
        "      self.messages = f\"You selected {prev_round['choice']} and recieved a payoff of {prev_round['outcome']}. Had you selected {prev_alt}, you would have recieved {prev_round['alternative']}.\" + Prompts.hist_dict.value + f\"{self.history}. The current round number is {round_num}:\" + Prompts.cont.value\n",
        "    elif self.history_provided == 'chat':\n",
        "     self.messages.append({\"role\": \"model\", \"parts\": [prev_round['choice']]})\n",
        "     self.messages.append({\"role\": \"user\", \"parts\": [f\"You selected {prev_round['choice']} and recieved a payoff of {prev_round['outcome']}. Had you selected {prev_alt}, you would have recieved {prev_round['alternative']}.\" + Prompts.cont.value]})\n",
        "    else:\n",
        "      self.messages = f\"You selected {prev_round['choice']} and recieved a payoff of {prev_round['outcome']}. Had you selected {prev_alt}, you would have recieved {prev_round['alternative']}.\" + Prompts.cont.value\n",
        "\n",
        "  def set_history(self, round_details: dict):\n",
        "    if self.history_provided == 'all':\n",
        "        self.history = round_details\n",
        "\n",
        "  def get_response(self):\n",
        "    retries = 0\n",
        "    while retries < 7:\n",
        "      try:\n",
        "        response = self.generate_response()\n",
        "        r = re.sub(r'\\s+', '', response.text)\n",
        "        if r == 'A' or r == 'B':\n",
        "          return r\n",
        "        else:\n",
        "          self.prompt = \"Your previous response was invalid. Please ensure your choice is a single character, either 'A' or 'B', and nothing more.\" + self.prompt\n",
        "          print('retrying call')\n",
        "          continue\n",
        "      except Exception as e:\n",
        "        print(f\"An error occurred: {e}\")\n",
        "\n",
        "      time.sleep(0.5 * (2 * retries))\n",
        "      retries += 1\n",
        "\n",
        "    print(\"Max retries exceeded. API call failed.\")\n",
        "    return None\n",
        "\n",
        "  def get_model_dict(self):\n",
        "    return {'model_name': self.model_name, 'history_provided': self.history_provided, 'temperature': self.temp}\n"
      ]
    },
    {
      "cell_type": "code",
      "execution_count": null,
      "metadata": {
        "id": "w8FcCczL2-n0"
      },
      "outputs": [],
      "source": [
        "class OpenAIModel:\n",
        "  def __init__(self, api_key: str, model_name: str = 'gpt-4o-mini',  provide_history: str = 'all', temp: float = 1):\n",
        "    self.client = OpenAI(api_key=api_key)\n",
        "    self.model_name = model_name\n",
        "    self.temp = temp\n",
        "    self.history_provided = provide_history\n",
        "    self.messages = [{\"role\": \"system\", \"content\": Prompts.initial_a.value},\n",
        "                   {\"role\": \"user\", \"content\": Prompts.initial_b.value}]\n",
        "    self.history = {}\n",
        "\n",
        "  def set_history(self, round_details: dict):\n",
        "    if self.history_provided == 'all':\n",
        "      self.history = round_details\n",
        "\n",
        "  def set_prompt(self, round_details: dict):\n",
        "    round_num = max(round_details.keys())\n",
        "    prev_round = round_details[round_num]\n",
        "    prev_alt = 'B' if prev_round['choice'] == 'A' else 'A'\n",
        "    if self.history_provided == 'chat':\n",
        "      self.messages.append({\"role\": \"assistant\", \"content\": prev_round['choice']})\n",
        "      self.messages.append({\"role\": \"user\", \"content\": f\"You selected {prev_round['choice']} and recieved a payoff of {prev_round['outcome']}. Had you selected {prev_alt}, you would have recieved {prev_round['alternative']}.\" + Prompts.cont.value})\n",
        "    else:\n",
        "      self.messages = [{\"role\": \"system\", \"content\": Prompts.initial_a.value},\n",
        "                        {\"role\": \"user\", \"content\": f\"You selected {prev_round['choice']} and recieved a payoff of {prev_round['outcome']}. Had you selected {prev_alt}, you would have recieved {prev_round['alternative']}.\" + Prompts.hist_dict.value + f\"{self.history}. The current round number is {round_num}:\" + Prompts.cont.value}]\n",
        "\n",
        "  def get_response(self):\n",
        "    retries = 0\n",
        "    while retries < 7:\n",
        "      try:\n",
        "        response = self.client.chat.completions.create(model=self.model_name, messages=self.messages, temperature = self.temp)\n",
        "        r = re.sub(r'\\s+', '', response.choices[0].message.content)\n",
        "        if r == 'A' or r == 'B':\n",
        "          return r\n",
        "        elif r[-1] == 'A' or r[-1] == 'B':\n",
        "            return r[-1]\n",
        "        else:\n",
        "          print(self.messages)\n",
        "          print(f'retrying call, given response:{r}')\n",
        "          self.messages.append({\"role\": \"assistant\", \"content\": r})\n",
        "          self.messages.append({\"role\": \"user\", \"content\": \"Your previous response was invalid. Please ensure your choice is a single character, either 'A' or 'B', and nothing more.\"})\n",
        "      except Exception as e:\n",
        "        print(f\"An error occurred: {e}\")\n",
        "\n",
        "      time.sleep(0.5 * (2 * retries))\n",
        "      retries += 1\n",
        "\n",
        "    print(\"Max retries exceeded. API call failed.\")\n",
        "    return None\n",
        "\n",
        "\n",
        "  def get_model_dict(self):\n",
        "    return {'model_name': self.model_name, 'history_provided': self.history_provided, 'temperature': self.temp}\n"
      ]
    },
    {
      "cell_type": "code",
      "execution_count": null,
      "metadata": {
        "id": "iVZ1QJeACxg2"
      },
      "outputs": [],
      "source": [
        "class Trial:\n",
        "  def __init__(self, trial_id: int, trials_df: pd.DataFrame, model: (GeminiModel | OpenAIModel), num_rounds: int = 100, trial_idx: (str | int) = 'random'):\n",
        "    idx = np.random.randint(0, len(trials_df)) if trial_idx == 'random' else trial_idx\n",
        "    row = trials_df.iloc[idx]\n",
        "    self.num_rounds = num_rounds\n",
        "    self.trial_id = trial_id\n",
        "    self.prob_id = row['id']\n",
        "    self.a1 = row['a1']\n",
        "    self.pa1 = row['pa1']\n",
        "    self.a2 = row['a2']\n",
        "    self.b1 = row['b1']\n",
        "    self.pb1 = row['pb1']\n",
        "    self.b2 = row['b2']\n",
        "    self.corrAB = row['corrAB']\n",
        "    self.model = model\n",
        "    self.round_num = 1\n",
        "    self.rounds_details = {}\n",
        "\n",
        "  def create_trial_dict(self):\n",
        "    self.trial_dict = {'trial_id': self.trial_id, 'prob_id': self.prob_id, 'a1': self.a1, 'pa1': self.pa1, 'a2': self.a2, 'b1': self.b1, 'pb1': self.pb1, 'b2': self.b2, 'corrAB': self.corrAB}\n",
        "    self.trial_dict.update(self.model.get_model_dict())\n",
        "    return self.trial_dict\n",
        "\n",
        "  def create_results_df(self):\n",
        "    d = self.create_trial_dict()\n",
        "    rows = []\n",
        "    for round_number, round_info in self.rounds_details.items():\n",
        "      row = {**d, 'round_number': round_number, **round_info,}\n",
        "      rows.append(row)\n",
        "    return pd.DataFrame(rows)\n",
        "\n",
        "  def run_trial(self):\n",
        "    for i in tqdm(range(self.num_rounds)):\n",
        "      choice = self.model.get_response()\n",
        "      if choice == None:\n",
        "        break\n",
        "      self.simulate_round(choice)\n",
        "      self.model.set_history(self.rounds_details)\n",
        "      self.model.set_prompt(self.rounds_details)\n",
        "      self.round_num += 1\n",
        "    return self.create_results_df()\n",
        "\n",
        "  def simulate_round(self, choice: str):\n",
        "    rand_a, rand_b = np.random.rand(), np.random.rand()\n",
        "    if self.corrAB != 0:\n",
        "      rand_b = rand_a if self.corrAB == 1 else 1 - rand_a\n",
        "    if choice == 'A':\n",
        "        outcome = self.a1 if rand_a < self.pa1 else self.a2\n",
        "        alternative = self.b1 if rand_b < self.pb1 else self.b2\n",
        "    else:\n",
        "        outcome = self.b1 if rand_b < self.pb1 else self.b2\n",
        "        alternative = self.a1 if rand_a < self.pa1 else self.a2\n",
        "    self.rounds_details[self.round_num] = {'choice': choice,\n",
        "                                              'outcome': outcome,\n",
        "                                              'alternative': alternative}"
      ]
    },
    {
      "cell_type": "code",
      "execution_count": null,
      "metadata": {
        "id": "exznsVxuf12-"
      },
      "outputs": [],
      "source": [
        "def get_timestamp():\n",
        "  gmt_plus_3 = pytz.timezone('Etc/GMT-3')\n",
        "  now = datetime.datetime.now(gmt_plus_3)\n",
        "  timestamp = now.strftime('%Y-%m-%d %H:%M')\n",
        "  return timestamp"
      ]
    },
    {
      "cell_type": "markdown",
      "metadata": {
        "id": "hmjS7-bglfbV"
      },
      "source": [
        "### Running in Colab"
      ]
    },
    {
      "cell_type": "code",
      "execution_count": null,
      "metadata": {
        "id": "CYmadNZyCroU"
      },
      "outputs": [],
      "source": [
        "from google.colab import userdata, files\n",
        "gemini_token = userdata.get('gemini-rp')\n",
        "openai_token = userdata.get('openai_rp')"
      ]
    },
    {
      "cell_type": "code",
      "execution_count": null,
      "metadata": {
        "colab": {
          "base_uri": "https://localhost:8080/"
        },
        "id": "j7yzi2w40WSA",
        "outputId": "51a2f34b-3ea1-4f4b-ee36-e791af7e9768"
      },
      "outputs": [
        {
          "output_type": "stream",
          "name": "stdout",
          "text": [
            "Drive already mounted at /content/drive; to attempt to forcibly remount, call drive.mount(\"/content/drive\", force_remount=True).\n"
          ]
        }
      ],
      "source": [
        "from google.colab import drive\n",
        "drive.mount('/content/drive')\n",
        "path_prefix = '/content/drive/MyDrive/Archive/University/Research Project/'\n",
        "df = pd.read_csv(os.path.join(path_prefix, 'experiment_problems.csv'))"
      ]
    },
    {
      "cell_type": "code",
      "execution_count": null,
      "metadata": {
        "id": "gNGSe4lLc5L_"
      },
      "outputs": [],
      "source": [
        "trial_params = {'idx': [0,1,2,3]}\n",
        "model_params = {'model_history': [('gemini-1.5-flash', None), ('gemini-1.5-flash', 'all'), ('gemini-1.5-flash', 'chat'), ('gpt-4o-mini', 'all'), ('gpt-4o-mini', 'chat'), ('gpt-3.5-turbo', 'all'), ('gpt-3.5-turbo', 'chat')],\n",
        "                'temperature': [0.2, 1, 2]}"
      ]
    },
    {
      "cell_type": "code",
      "execution_count": null,
      "metadata": {
        "id": "c2R2raPApYpF"
      },
      "outputs": [],
      "source": [
        "results_df = pd.DataFrame()\n",
        "num_trials = 20\n",
        "rounds = 100\n",
        "all_temps = False\n",
        "\n",
        "last_id = 1238\n",
        "trial_idx = trial_params['idx'][0]\n",
        "model_name = model_params['model_history'][5][0]\n",
        "history = model_params['model_history'][5][1]\n",
        "temp = model_params['temperature'][1]"
      ]
    },
    {
      "cell_type": "code",
      "execution_count": null,
      "metadata": {
        "colab": {
          "base_uri": "https://localhost:8080/"
        },
        "id": "VGkIj8snbs7C",
        "outputId": "5dcf0951-2a8b-4d3c-8b3c-8ecc10bd80d5"
      },
      "outputs": [
        {
          "output_type": "execute_result",
          "data": {
            "text/plain": [
              "('gpt-3.5-turbo', 'all', 1, 1238)"
            ]
          },
          "metadata": {},
          "execution_count": 25
        }
      ],
      "source": [
        "model_name, history, temp, last_id"
      ]
    },
    {
      "cell_type": "code",
      "execution_count": null,
      "metadata": {
        "colab": {
          "base_uri": "https://localhost:8080/"
        },
        "id": "Y8pcbK5pcc8L",
        "outputId": "ab49af68-2b25-4ebe-d936-80b2a199d603"
      },
      "outputs": [
        {
          "output_type": "stream",
          "name": "stdout",
          "text": [
            "--------------- Running 20 ('gpt-3.5-turbo', 'all') Trials at Temperature 1 ---------------\n"
          ]
        },
        {
          "output_type": "stream",
          "name": "stderr",
          "text": [
            "100%|██████████| 100/100 [00:43<00:00,  2.30it/s]\n"
          ]
        },
        {
          "output_type": "stream",
          "name": "stdout",
          "text": [
            "\n",
            " Trial 1/20 Complete!\n"
          ]
        },
        {
          "output_type": "stream",
          "name": "stderr",
          "text": [
            "\r  0%|          | 0/100 [00:00<?, ?it/s]"
          ]
        },
        {
          "output_type": "stream",
          "name": "stdout",
          "text": [
            "[{'role': 'system', 'content': 'The current experiment includes many trials. Your task, in each trial, is to select one of two options, A or B. Each selection will be followed by the presentation of both choice’s payoffs. Your payoff for the trial is the payoff of the selection you made.'}, {'role': 'user', 'content': \"To begin, please select A or B. Respond only with the letter 'A' or 'B', indicating your choice.Do not provide an explanation, reason, or any additional text. If you respond with anything other than a single letter (A or B), the answer will be considered incorrect.\"}]\n",
            "retrying call, given response:PleaseselectAorB.\n",
            "[{'role': 'system', 'content': 'The current experiment includes many trials. Your task, in each trial, is to select one of two options, A or B. Each selection will be followed by the presentation of both choice’s payoffs. Your payoff for the trial is the payoff of the selection you made.'}, {'role': 'user', 'content': \"To begin, please select A or B. Respond only with the letter 'A' or 'B', indicating your choice.Do not provide an explanation, reason, or any additional text. If you respond with anything other than a single letter (A or B), the answer will be considered incorrect.\"}, {'role': 'assistant', 'content': 'PleaseselectAorB.'}, {'role': 'user', 'content': \"Your previous response was invalid. Please ensure your choice is a single character, either 'A' or 'B', and nothing more.\"}]\n",
            "retrying call, given response:Iapologizefortheconfusion.Let'sstartover.PleaseselectAorBrespondingonlywiththeletter'A'or'B'.\n",
            "[{'role': 'system', 'content': 'The current experiment includes many trials. Your task, in each trial, is to select one of two options, A or B. Each selection will be followed by the presentation of both choice’s payoffs. Your payoff for the trial is the payoff of the selection you made.'}, {'role': 'user', 'content': \"To begin, please select A or B. Respond only with the letter 'A' or 'B', indicating your choice.Do not provide an explanation, reason, or any additional text. If you respond with anything other than a single letter (A or B), the answer will be considered incorrect.\"}, {'role': 'assistant', 'content': 'PleaseselectAorB.'}, {'role': 'user', 'content': \"Your previous response was invalid. Please ensure your choice is a single character, either 'A' or 'B', and nothing more.\"}, {'role': 'assistant', 'content': \"Iapologizefortheconfusion.Let'sstartover.PleaseselectAorBrespondingonlywiththeletter'A'or'B'.\"}, {'role': 'user', 'content': \"Your previous response was invalid. Please ensure your choice is a single character, either 'A' or 'B', and nothing more.\"}]\n",
            "retrying call, given response:Let'sbegin.PleaseselectAorBrespondingonlywiththeletter'A'or'B'.\n",
            "[{'role': 'system', 'content': 'The current experiment includes many trials. Your task, in each trial, is to select one of two options, A or B. Each selection will be followed by the presentation of both choice’s payoffs. Your payoff for the trial is the payoff of the selection you made.'}, {'role': 'user', 'content': \"To begin, please select A or B. Respond only with the letter 'A' or 'B', indicating your choice.Do not provide an explanation, reason, or any additional text. If you respond with anything other than a single letter (A or B), the answer will be considered incorrect.\"}, {'role': 'assistant', 'content': 'PleaseselectAorB.'}, {'role': 'user', 'content': \"Your previous response was invalid. Please ensure your choice is a single character, either 'A' or 'B', and nothing more.\"}, {'role': 'assistant', 'content': \"Iapologizefortheconfusion.Let'sstartover.PleaseselectAorBrespondingonlywiththeletter'A'or'B'.\"}, {'role': 'user', 'content': \"Your previous response was invalid. Please ensure your choice is a single character, either 'A' or 'B', and nothing more.\"}, {'role': 'assistant', 'content': \"Let'sbegin.PleaseselectAorBrespondingonlywiththeletter'A'or'B'.\"}, {'role': 'user', 'content': \"Your previous response was invalid. Please ensure your choice is a single character, either 'A' or 'B', and nothing more.\"}]\n",
            "retrying call, given response:Apologiesfortheerror.Let'stryagain.Trial1:PleaseselectAorB.Respondonlywiththeletter'A'or'B',indicatingyourchoice.\n",
            "[{'role': 'system', 'content': 'The current experiment includes many trials. Your task, in each trial, is to select one of two options, A or B. Each selection will be followed by the presentation of both choice’s payoffs. Your payoff for the trial is the payoff of the selection you made.'}, {'role': 'user', 'content': \"To begin, please select A or B. Respond only with the letter 'A' or 'B', indicating your choice.Do not provide an explanation, reason, or any additional text. If you respond with anything other than a single letter (A or B), the answer will be considered incorrect.\"}, {'role': 'assistant', 'content': 'PleaseselectAorB.'}, {'role': 'user', 'content': \"Your previous response was invalid. Please ensure your choice is a single character, either 'A' or 'B', and nothing more.\"}, {'role': 'assistant', 'content': \"Iapologizefortheconfusion.Let'sstartover.PleaseselectAorBrespondingonlywiththeletter'A'or'B'.\"}, {'role': 'user', 'content': \"Your previous response was invalid. Please ensure your choice is a single character, either 'A' or 'B', and nothing more.\"}, {'role': 'assistant', 'content': \"Let'sbegin.PleaseselectAorBrespondingonlywiththeletter'A'or'B'.\"}, {'role': 'user', 'content': \"Your previous response was invalid. Please ensure your choice is a single character, either 'A' or 'B', and nothing more.\"}, {'role': 'assistant', 'content': \"Apologiesfortheerror.Let'stryagain.Trial1:PleaseselectAorB.Respondonlywiththeletter'A'or'B',indicatingyourchoice.\"}, {'role': 'user', 'content': \"Your previous response was invalid. Please ensure your choice is a single character, either 'A' or 'B', and nothing more.\"}]\n",
            "retrying call, given response:Let'sstarttheexperiment.PleaseselectAorBbyrespondingwiththeletter'A'or'B'.\n",
            "[{'role': 'system', 'content': 'The current experiment includes many trials. Your task, in each trial, is to select one of two options, A or B. Each selection will be followed by the presentation of both choice’s payoffs. Your payoff for the trial is the payoff of the selection you made.'}, {'role': 'user', 'content': \"To begin, please select A or B. Respond only with the letter 'A' or 'B', indicating your choice.Do not provide an explanation, reason, or any additional text. If you respond with anything other than a single letter (A or B), the answer will be considered incorrect.\"}, {'role': 'assistant', 'content': 'PleaseselectAorB.'}, {'role': 'user', 'content': \"Your previous response was invalid. Please ensure your choice is a single character, either 'A' or 'B', and nothing more.\"}, {'role': 'assistant', 'content': \"Iapologizefortheconfusion.Let'sstartover.PleaseselectAorBrespondingonlywiththeletter'A'or'B'.\"}, {'role': 'user', 'content': \"Your previous response was invalid. Please ensure your choice is a single character, either 'A' or 'B', and nothing more.\"}, {'role': 'assistant', 'content': \"Let'sbegin.PleaseselectAorBrespondingonlywiththeletter'A'or'B'.\"}, {'role': 'user', 'content': \"Your previous response was invalid. Please ensure your choice is a single character, either 'A' or 'B', and nothing more.\"}, {'role': 'assistant', 'content': \"Apologiesfortheerror.Let'stryagain.Trial1:PleaseselectAorB.Respondonlywiththeletter'A'or'B',indicatingyourchoice.\"}, {'role': 'user', 'content': \"Your previous response was invalid. Please ensure your choice is a single character, either 'A' or 'B', and nothing more.\"}, {'role': 'assistant', 'content': \"Let'sstarttheexperiment.PleaseselectAorBbyrespondingwiththeletter'A'or'B'.\"}, {'role': 'user', 'content': \"Your previous response was invalid. Please ensure your choice is a single character, either 'A' or 'B', and nothing more.\"}]\n",
            "retrying call, given response:Let'sbegin.Trial1:PleaseselectAorBbyrespondingwiththeletter'A'or'B'.\n",
            "[{'role': 'system', 'content': 'The current experiment includes many trials. Your task, in each trial, is to select one of two options, A or B. Each selection will be followed by the presentation of both choice’s payoffs. Your payoff for the trial is the payoff of the selection you made.'}, {'role': 'user', 'content': \"To begin, please select A or B. Respond only with the letter 'A' or 'B', indicating your choice.Do not provide an explanation, reason, or any additional text. If you respond with anything other than a single letter (A or B), the answer will be considered incorrect.\"}, {'role': 'assistant', 'content': 'PleaseselectAorB.'}, {'role': 'user', 'content': \"Your previous response was invalid. Please ensure your choice is a single character, either 'A' or 'B', and nothing more.\"}, {'role': 'assistant', 'content': \"Iapologizefortheconfusion.Let'sstartover.PleaseselectAorBrespondingonlywiththeletter'A'or'B'.\"}, {'role': 'user', 'content': \"Your previous response was invalid. Please ensure your choice is a single character, either 'A' or 'B', and nothing more.\"}, {'role': 'assistant', 'content': \"Let'sbegin.PleaseselectAorBrespondingonlywiththeletter'A'or'B'.\"}, {'role': 'user', 'content': \"Your previous response was invalid. Please ensure your choice is a single character, either 'A' or 'B', and nothing more.\"}, {'role': 'assistant', 'content': \"Apologiesfortheerror.Let'stryagain.Trial1:PleaseselectAorB.Respondonlywiththeletter'A'or'B',indicatingyourchoice.\"}, {'role': 'user', 'content': \"Your previous response was invalid. Please ensure your choice is a single character, either 'A' or 'B', and nothing more.\"}, {'role': 'assistant', 'content': \"Let'sstarttheexperiment.PleaseselectAorBbyrespondingwiththeletter'A'or'B'.\"}, {'role': 'user', 'content': \"Your previous response was invalid. Please ensure your choice is a single character, either 'A' or 'B', and nothing more.\"}, {'role': 'assistant', 'content': \"Let'sbegin.Trial1:PleaseselectAorBbyrespondingwiththeletter'A'or'B'.\"}, {'role': 'user', 'content': \"Your previous response was invalid. Please ensure your choice is a single character, either 'A' or 'B', and nothing more.\"}]\n",
            "retrying call, given response:Let'sstartanew.Trial1:PleaseselectAorBbyrespondingwiththesinglecharacter'A'or'B'.\n"
          ]
        },
        {
          "output_type": "stream",
          "name": "stderr",
          "text": [
            "\r  0%|          | 0/100 [00:26<?, ?it/s]"
          ]
        },
        {
          "output_type": "stream",
          "name": "stdout",
          "text": [
            "Max retries exceeded. API call failed.\n"
          ]
        },
        {
          "output_type": "stream",
          "name": "stderr",
          "text": [
            "\n"
          ]
        }
      ],
      "source": [
        "results_df = pd.DataFrame()\n",
        "if all_temps:\n",
        "    for temp in model_params['temperature']:\n",
        "      print(f'--------------- Running 20 {model_name, history} Trials at Temperature {temp} ---------------')\n",
        "      timestamp = get_timestamp()\n",
        "      for i in range(num_trials):\n",
        "        model = GeminiModel(gemini_token, model_name, history, temp) if model_name == 'gemini-1.5-flash' else OpenAIModel(openai_token, model_name, history, temp)\n",
        "        trial = Trial(i+last_id+1, df, model, rounds, trial_idx)\n",
        "        trial_results = trial.run_trial()\n",
        "        if len(trial_results) < 100:\n",
        "          break\n",
        "        results_df = pd.concat([results_df, trial_results])\n",
        "        print(f'\\n Trial {i+1}/{num_trials} Complete!')\n",
        "        results_df.to_csv(os.path.join(path_prefix, f'trial_results_{model_name}_{history}_temp_{temp}_{timestamp}.csv'), index=False)\n",
        "      last_id += 20\n",
        "    results_df.to_csv(os.path.join(path_prefix, f'trial_results_{model_name}_{history}_{get_timestamp()}.csv'), index=False)\n",
        "else:\n",
        "    print(f'--------------- Running {num_trials} {model_name, history} Trials at Temperature {temp} ---------------')\n",
        "    timestamp = get_timestamp()\n",
        "    for i in range(num_trials):\n",
        "      model = GeminiModel(gemini_token, model_name, history, temp) if model_name == 'gemini-1.5-flash' else OpenAIModel(openai_token, model_name, history, temp)\n",
        "      trial = Trial(i+last_id+1, df, model, rounds, trial_idx)\n",
        "      trial_results = trial.run_trial()\n",
        "      if len(trial_results) < 100:\n",
        "        break\n",
        "      results_df = pd.concat([results_df, trial_results])\n",
        "      print(f'\\n Trial {i+1}/{num_trials} Complete!')\n",
        "      results_df.to_csv(os.path.join(path_prefix, f'trial_results_{model_name}_{history}_temp_{temp}_{timestamp}.csv'), index=False)"
      ]
    },
    {
      "cell_type": "code",
      "execution_count": null,
      "metadata": {
        "colab": {
          "base_uri": "https://localhost:8080/",
          "height": 424
        },
        "id": "21quiUpV_GYI",
        "outputId": "a5fa7b73-51a9-443d-dccc-1fd7323d68c9"
      },
      "outputs": [
        {
          "output_type": "execute_result",
          "data": {
            "text/plain": [
              "    trial_id  prob_id   a1  pa1   a2   b1  pb1   b2  corrAB        model_name  \\\n",
              "0        977      4.0  6.0  0.5  0.0  8.0  0.5  0.0    -1.0  gemini-1.5-flash   \n",
              "1        977      4.0  6.0  0.5  0.0  8.0  0.5  0.0    -1.0  gemini-1.5-flash   \n",
              "2        977      4.0  6.0  0.5  0.0  8.0  0.5  0.0    -1.0  gemini-1.5-flash   \n",
              "3        977      4.0  6.0  0.5  0.0  8.0  0.5  0.0    -1.0  gemini-1.5-flash   \n",
              "4        977      4.0  6.0  0.5  0.0  8.0  0.5  0.0    -1.0  gemini-1.5-flash   \n",
              "..       ...      ...  ...  ...  ...  ...  ...  ...     ...               ...   \n",
              "95      1036      4.0  6.0  0.5  0.0  8.0  0.5  0.0    -1.0  gemini-1.5-flash   \n",
              "96      1036      4.0  6.0  0.5  0.0  8.0  0.5  0.0    -1.0  gemini-1.5-flash   \n",
              "97      1036      4.0  6.0  0.5  0.0  8.0  0.5  0.0    -1.0  gemini-1.5-flash   \n",
              "98      1036      4.0  6.0  0.5  0.0  8.0  0.5  0.0    -1.0  gemini-1.5-flash   \n",
              "99      1036      4.0  6.0  0.5  0.0  8.0  0.5  0.0    -1.0  gemini-1.5-flash   \n",
              "\n",
              "   history_provided  temperature  round_number choice  outcome  alternative  \n",
              "0               all          0.2             1      A      6.0          0.0  \n",
              "1               all          0.2             2      A      0.0          8.0  \n",
              "2               all          0.2             3      B      0.0          6.0  \n",
              "3               all          0.2             4      B      0.0          6.0  \n",
              "4               all          0.2             5      B      0.0          6.0  \n",
              "..              ...          ...           ...    ...      ...          ...  \n",
              "95              all          2.0            96      A      0.0          8.0  \n",
              "96              all          2.0            97      B      0.0          6.0  \n",
              "97              all          2.0            98      B      0.0          6.0  \n",
              "98              all          2.0            99      B      0.0          6.0  \n",
              "99              all          2.0           100      B      0.0          6.0  \n",
              "\n",
              "[6000 rows x 16 columns]"
            ],
            "text/html": [
              "\n",
              "  <div id=\"df-e9ebffce-f924-434f-9587-067683abff7e\" class=\"colab-df-container\">\n",
              "    <div>\n",
              "<style scoped>\n",
              "    .dataframe tbody tr th:only-of-type {\n",
              "        vertical-align: middle;\n",
              "    }\n",
              "\n",
              "    .dataframe tbody tr th {\n",
              "        vertical-align: top;\n",
              "    }\n",
              "\n",
              "    .dataframe thead th {\n",
              "        text-align: right;\n",
              "    }\n",
              "</style>\n",
              "<table border=\"1\" class=\"dataframe\">\n",
              "  <thead>\n",
              "    <tr style=\"text-align: right;\">\n",
              "      <th></th>\n",
              "      <th>trial_id</th>\n",
              "      <th>prob_id</th>\n",
              "      <th>a1</th>\n",
              "      <th>pa1</th>\n",
              "      <th>a2</th>\n",
              "      <th>b1</th>\n",
              "      <th>pb1</th>\n",
              "      <th>b2</th>\n",
              "      <th>corrAB</th>\n",
              "      <th>model_name</th>\n",
              "      <th>history_provided</th>\n",
              "      <th>temperature</th>\n",
              "      <th>round_number</th>\n",
              "      <th>choice</th>\n",
              "      <th>outcome</th>\n",
              "      <th>alternative</th>\n",
              "    </tr>\n",
              "  </thead>\n",
              "  <tbody>\n",
              "    <tr>\n",
              "      <th>0</th>\n",
              "      <td>977</td>\n",
              "      <td>4.0</td>\n",
              "      <td>6.0</td>\n",
              "      <td>0.5</td>\n",
              "      <td>0.0</td>\n",
              "      <td>8.0</td>\n",
              "      <td>0.5</td>\n",
              "      <td>0.0</td>\n",
              "      <td>-1.0</td>\n",
              "      <td>gemini-1.5-flash</td>\n",
              "      <td>all</td>\n",
              "      <td>0.2</td>\n",
              "      <td>1</td>\n",
              "      <td>A</td>\n",
              "      <td>6.0</td>\n",
              "      <td>0.0</td>\n",
              "    </tr>\n",
              "    <tr>\n",
              "      <th>1</th>\n",
              "      <td>977</td>\n",
              "      <td>4.0</td>\n",
              "      <td>6.0</td>\n",
              "      <td>0.5</td>\n",
              "      <td>0.0</td>\n",
              "      <td>8.0</td>\n",
              "      <td>0.5</td>\n",
              "      <td>0.0</td>\n",
              "      <td>-1.0</td>\n",
              "      <td>gemini-1.5-flash</td>\n",
              "      <td>all</td>\n",
              "      <td>0.2</td>\n",
              "      <td>2</td>\n",
              "      <td>A</td>\n",
              "      <td>0.0</td>\n",
              "      <td>8.0</td>\n",
              "    </tr>\n",
              "    <tr>\n",
              "      <th>2</th>\n",
              "      <td>977</td>\n",
              "      <td>4.0</td>\n",
              "      <td>6.0</td>\n",
              "      <td>0.5</td>\n",
              "      <td>0.0</td>\n",
              "      <td>8.0</td>\n",
              "      <td>0.5</td>\n",
              "      <td>0.0</td>\n",
              "      <td>-1.0</td>\n",
              "      <td>gemini-1.5-flash</td>\n",
              "      <td>all</td>\n",
              "      <td>0.2</td>\n",
              "      <td>3</td>\n",
              "      <td>B</td>\n",
              "      <td>0.0</td>\n",
              "      <td>6.0</td>\n",
              "    </tr>\n",
              "    <tr>\n",
              "      <th>3</th>\n",
              "      <td>977</td>\n",
              "      <td>4.0</td>\n",
              "      <td>6.0</td>\n",
              "      <td>0.5</td>\n",
              "      <td>0.0</td>\n",
              "      <td>8.0</td>\n",
              "      <td>0.5</td>\n",
              "      <td>0.0</td>\n",
              "      <td>-1.0</td>\n",
              "      <td>gemini-1.5-flash</td>\n",
              "      <td>all</td>\n",
              "      <td>0.2</td>\n",
              "      <td>4</td>\n",
              "      <td>B</td>\n",
              "      <td>0.0</td>\n",
              "      <td>6.0</td>\n",
              "    </tr>\n",
              "    <tr>\n",
              "      <th>4</th>\n",
              "      <td>977</td>\n",
              "      <td>4.0</td>\n",
              "      <td>6.0</td>\n",
              "      <td>0.5</td>\n",
              "      <td>0.0</td>\n",
              "      <td>8.0</td>\n",
              "      <td>0.5</td>\n",
              "      <td>0.0</td>\n",
              "      <td>-1.0</td>\n",
              "      <td>gemini-1.5-flash</td>\n",
              "      <td>all</td>\n",
              "      <td>0.2</td>\n",
              "      <td>5</td>\n",
              "      <td>B</td>\n",
              "      <td>0.0</td>\n",
              "      <td>6.0</td>\n",
              "    </tr>\n",
              "    <tr>\n",
              "      <th>...</th>\n",
              "      <td>...</td>\n",
              "      <td>...</td>\n",
              "      <td>...</td>\n",
              "      <td>...</td>\n",
              "      <td>...</td>\n",
              "      <td>...</td>\n",
              "      <td>...</td>\n",
              "      <td>...</td>\n",
              "      <td>...</td>\n",
              "      <td>...</td>\n",
              "      <td>...</td>\n",
              "      <td>...</td>\n",
              "      <td>...</td>\n",
              "      <td>...</td>\n",
              "      <td>...</td>\n",
              "      <td>...</td>\n",
              "    </tr>\n",
              "    <tr>\n",
              "      <th>95</th>\n",
              "      <td>1036</td>\n",
              "      <td>4.0</td>\n",
              "      <td>6.0</td>\n",
              "      <td>0.5</td>\n",
              "      <td>0.0</td>\n",
              "      <td>8.0</td>\n",
              "      <td>0.5</td>\n",
              "      <td>0.0</td>\n",
              "      <td>-1.0</td>\n",
              "      <td>gemini-1.5-flash</td>\n",
              "      <td>all</td>\n",
              "      <td>2.0</td>\n",
              "      <td>96</td>\n",
              "      <td>A</td>\n",
              "      <td>0.0</td>\n",
              "      <td>8.0</td>\n",
              "    </tr>\n",
              "    <tr>\n",
              "      <th>96</th>\n",
              "      <td>1036</td>\n",
              "      <td>4.0</td>\n",
              "      <td>6.0</td>\n",
              "      <td>0.5</td>\n",
              "      <td>0.0</td>\n",
              "      <td>8.0</td>\n",
              "      <td>0.5</td>\n",
              "      <td>0.0</td>\n",
              "      <td>-1.0</td>\n",
              "      <td>gemini-1.5-flash</td>\n",
              "      <td>all</td>\n",
              "      <td>2.0</td>\n",
              "      <td>97</td>\n",
              "      <td>B</td>\n",
              "      <td>0.0</td>\n",
              "      <td>6.0</td>\n",
              "    </tr>\n",
              "    <tr>\n",
              "      <th>97</th>\n",
              "      <td>1036</td>\n",
              "      <td>4.0</td>\n",
              "      <td>6.0</td>\n",
              "      <td>0.5</td>\n",
              "      <td>0.0</td>\n",
              "      <td>8.0</td>\n",
              "      <td>0.5</td>\n",
              "      <td>0.0</td>\n",
              "      <td>-1.0</td>\n",
              "      <td>gemini-1.5-flash</td>\n",
              "      <td>all</td>\n",
              "      <td>2.0</td>\n",
              "      <td>98</td>\n",
              "      <td>B</td>\n",
              "      <td>0.0</td>\n",
              "      <td>6.0</td>\n",
              "    </tr>\n",
              "    <tr>\n",
              "      <th>98</th>\n",
              "      <td>1036</td>\n",
              "      <td>4.0</td>\n",
              "      <td>6.0</td>\n",
              "      <td>0.5</td>\n",
              "      <td>0.0</td>\n",
              "      <td>8.0</td>\n",
              "      <td>0.5</td>\n",
              "      <td>0.0</td>\n",
              "      <td>-1.0</td>\n",
              "      <td>gemini-1.5-flash</td>\n",
              "      <td>all</td>\n",
              "      <td>2.0</td>\n",
              "      <td>99</td>\n",
              "      <td>B</td>\n",
              "      <td>0.0</td>\n",
              "      <td>6.0</td>\n",
              "    </tr>\n",
              "    <tr>\n",
              "      <th>99</th>\n",
              "      <td>1036</td>\n",
              "      <td>4.0</td>\n",
              "      <td>6.0</td>\n",
              "      <td>0.5</td>\n",
              "      <td>0.0</td>\n",
              "      <td>8.0</td>\n",
              "      <td>0.5</td>\n",
              "      <td>0.0</td>\n",
              "      <td>-1.0</td>\n",
              "      <td>gemini-1.5-flash</td>\n",
              "      <td>all</td>\n",
              "      <td>2.0</td>\n",
              "      <td>100</td>\n",
              "      <td>B</td>\n",
              "      <td>0.0</td>\n",
              "      <td>6.0</td>\n",
              "    </tr>\n",
              "  </tbody>\n",
              "</table>\n",
              "<p>6000 rows × 16 columns</p>\n",
              "</div>\n",
              "    <div class=\"colab-df-buttons\">\n",
              "\n",
              "  <div class=\"colab-df-container\">\n",
              "    <button class=\"colab-df-convert\" onclick=\"convertToInteractive('df-e9ebffce-f924-434f-9587-067683abff7e')\"\n",
              "            title=\"Convert this dataframe to an interactive table.\"\n",
              "            style=\"display:none;\">\n",
              "\n",
              "  <svg xmlns=\"http://www.w3.org/2000/svg\" height=\"24px\" viewBox=\"0 -960 960 960\">\n",
              "    <path d=\"M120-120v-720h720v720H120Zm60-500h600v-160H180v160Zm220 220h160v-160H400v160Zm0 220h160v-160H400v160ZM180-400h160v-160H180v160Zm440 0h160v-160H620v160ZM180-180h160v-160H180v160Zm440 0h160v-160H620v160Z\"/>\n",
              "  </svg>\n",
              "    </button>\n",
              "\n",
              "  <style>\n",
              "    .colab-df-container {\n",
              "      display:flex;\n",
              "      gap: 12px;\n",
              "    }\n",
              "\n",
              "    .colab-df-convert {\n",
              "      background-color: #E8F0FE;\n",
              "      border: none;\n",
              "      border-radius: 50%;\n",
              "      cursor: pointer;\n",
              "      display: none;\n",
              "      fill: #1967D2;\n",
              "      height: 32px;\n",
              "      padding: 0 0 0 0;\n",
              "      width: 32px;\n",
              "    }\n",
              "\n",
              "    .colab-df-convert:hover {\n",
              "      background-color: #E2EBFA;\n",
              "      box-shadow: 0px 1px 2px rgba(60, 64, 67, 0.3), 0px 1px 3px 1px rgba(60, 64, 67, 0.15);\n",
              "      fill: #174EA6;\n",
              "    }\n",
              "\n",
              "    .colab-df-buttons div {\n",
              "      margin-bottom: 4px;\n",
              "    }\n",
              "\n",
              "    [theme=dark] .colab-df-convert {\n",
              "      background-color: #3B4455;\n",
              "      fill: #D2E3FC;\n",
              "    }\n",
              "\n",
              "    [theme=dark] .colab-df-convert:hover {\n",
              "      background-color: #434B5C;\n",
              "      box-shadow: 0px 1px 3px 1px rgba(0, 0, 0, 0.15);\n",
              "      filter: drop-shadow(0px 1px 2px rgba(0, 0, 0, 0.3));\n",
              "      fill: #FFFFFF;\n",
              "    }\n",
              "  </style>\n",
              "\n",
              "    <script>\n",
              "      const buttonEl =\n",
              "        document.querySelector('#df-e9ebffce-f924-434f-9587-067683abff7e button.colab-df-convert');\n",
              "      buttonEl.style.display =\n",
              "        google.colab.kernel.accessAllowed ? 'block' : 'none';\n",
              "\n",
              "      async function convertToInteractive(key) {\n",
              "        const element = document.querySelector('#df-e9ebffce-f924-434f-9587-067683abff7e');\n",
              "        const dataTable =\n",
              "          await google.colab.kernel.invokeFunction('convertToInteractive',\n",
              "                                                    [key], {});\n",
              "        if (!dataTable) return;\n",
              "\n",
              "        const docLinkHtml = 'Like what you see? Visit the ' +\n",
              "          '<a target=\"_blank\" href=https://colab.research.google.com/notebooks/data_table.ipynb>data table notebook</a>'\n",
              "          + ' to learn more about interactive tables.';\n",
              "        element.innerHTML = '';\n",
              "        dataTable['output_type'] = 'display_data';\n",
              "        await google.colab.output.renderOutput(dataTable, element);\n",
              "        const docLink = document.createElement('div');\n",
              "        docLink.innerHTML = docLinkHtml;\n",
              "        element.appendChild(docLink);\n",
              "      }\n",
              "    </script>\n",
              "  </div>\n",
              "\n",
              "\n",
              "<div id=\"df-26aabf49-c66c-4c01-898c-a10597b48150\">\n",
              "  <button class=\"colab-df-quickchart\" onclick=\"quickchart('df-26aabf49-c66c-4c01-898c-a10597b48150')\"\n",
              "            title=\"Suggest charts\"\n",
              "            style=\"display:none;\">\n",
              "\n",
              "<svg xmlns=\"http://www.w3.org/2000/svg\" height=\"24px\"viewBox=\"0 0 24 24\"\n",
              "     width=\"24px\">\n",
              "    <g>\n",
              "        <path d=\"M19 3H5c-1.1 0-2 .9-2 2v14c0 1.1.9 2 2 2h14c1.1 0 2-.9 2-2V5c0-1.1-.9-2-2-2zM9 17H7v-7h2v7zm4 0h-2V7h2v10zm4 0h-2v-4h2v4z\"/>\n",
              "    </g>\n",
              "</svg>\n",
              "  </button>\n",
              "\n",
              "<style>\n",
              "  .colab-df-quickchart {\n",
              "      --bg-color: #E8F0FE;\n",
              "      --fill-color: #1967D2;\n",
              "      --hover-bg-color: #E2EBFA;\n",
              "      --hover-fill-color: #174EA6;\n",
              "      --disabled-fill-color: #AAA;\n",
              "      --disabled-bg-color: #DDD;\n",
              "  }\n",
              "\n",
              "  [theme=dark] .colab-df-quickchart {\n",
              "      --bg-color: #3B4455;\n",
              "      --fill-color: #D2E3FC;\n",
              "      --hover-bg-color: #434B5C;\n",
              "      --hover-fill-color: #FFFFFF;\n",
              "      --disabled-bg-color: #3B4455;\n",
              "      --disabled-fill-color: #666;\n",
              "  }\n",
              "\n",
              "  .colab-df-quickchart {\n",
              "    background-color: var(--bg-color);\n",
              "    border: none;\n",
              "    border-radius: 50%;\n",
              "    cursor: pointer;\n",
              "    display: none;\n",
              "    fill: var(--fill-color);\n",
              "    height: 32px;\n",
              "    padding: 0;\n",
              "    width: 32px;\n",
              "  }\n",
              "\n",
              "  .colab-df-quickchart:hover {\n",
              "    background-color: var(--hover-bg-color);\n",
              "    box-shadow: 0 1px 2px rgba(60, 64, 67, 0.3), 0 1px 3px 1px rgba(60, 64, 67, 0.15);\n",
              "    fill: var(--button-hover-fill-color);\n",
              "  }\n",
              "\n",
              "  .colab-df-quickchart-complete:disabled,\n",
              "  .colab-df-quickchart-complete:disabled:hover {\n",
              "    background-color: var(--disabled-bg-color);\n",
              "    fill: var(--disabled-fill-color);\n",
              "    box-shadow: none;\n",
              "  }\n",
              "\n",
              "  .colab-df-spinner {\n",
              "    border: 2px solid var(--fill-color);\n",
              "    border-color: transparent;\n",
              "    border-bottom-color: var(--fill-color);\n",
              "    animation:\n",
              "      spin 1s steps(1) infinite;\n",
              "  }\n",
              "\n",
              "  @keyframes spin {\n",
              "    0% {\n",
              "      border-color: transparent;\n",
              "      border-bottom-color: var(--fill-color);\n",
              "      border-left-color: var(--fill-color);\n",
              "    }\n",
              "    20% {\n",
              "      border-color: transparent;\n",
              "      border-left-color: var(--fill-color);\n",
              "      border-top-color: var(--fill-color);\n",
              "    }\n",
              "    30% {\n",
              "      border-color: transparent;\n",
              "      border-left-color: var(--fill-color);\n",
              "      border-top-color: var(--fill-color);\n",
              "      border-right-color: var(--fill-color);\n",
              "    }\n",
              "    40% {\n",
              "      border-color: transparent;\n",
              "      border-right-color: var(--fill-color);\n",
              "      border-top-color: var(--fill-color);\n",
              "    }\n",
              "    60% {\n",
              "      border-color: transparent;\n",
              "      border-right-color: var(--fill-color);\n",
              "    }\n",
              "    80% {\n",
              "      border-color: transparent;\n",
              "      border-right-color: var(--fill-color);\n",
              "      border-bottom-color: var(--fill-color);\n",
              "    }\n",
              "    90% {\n",
              "      border-color: transparent;\n",
              "      border-bottom-color: var(--fill-color);\n",
              "    }\n",
              "  }\n",
              "</style>\n",
              "\n",
              "  <script>\n",
              "    async function quickchart(key) {\n",
              "      const quickchartButtonEl =\n",
              "        document.querySelector('#' + key + ' button');\n",
              "      quickchartButtonEl.disabled = true;  // To prevent multiple clicks.\n",
              "      quickchartButtonEl.classList.add('colab-df-spinner');\n",
              "      try {\n",
              "        const charts = await google.colab.kernel.invokeFunction(\n",
              "            'suggestCharts', [key], {});\n",
              "      } catch (error) {\n",
              "        console.error('Error during call to suggestCharts:', error);\n",
              "      }\n",
              "      quickchartButtonEl.classList.remove('colab-df-spinner');\n",
              "      quickchartButtonEl.classList.add('colab-df-quickchart-complete');\n",
              "    }\n",
              "    (() => {\n",
              "      let quickchartButtonEl =\n",
              "        document.querySelector('#df-26aabf49-c66c-4c01-898c-a10597b48150 button');\n",
              "      quickchartButtonEl.style.display =\n",
              "        google.colab.kernel.accessAllowed ? 'block' : 'none';\n",
              "    })();\n",
              "  </script>\n",
              "</div>\n",
              "\n",
              "  <div id=\"id_cef24a72-c7e6-4930-bc1e-d71ad7811476\">\n",
              "    <style>\n",
              "      .colab-df-generate {\n",
              "        background-color: #E8F0FE;\n",
              "        border: none;\n",
              "        border-radius: 50%;\n",
              "        cursor: pointer;\n",
              "        display: none;\n",
              "        fill: #1967D2;\n",
              "        height: 32px;\n",
              "        padding: 0 0 0 0;\n",
              "        width: 32px;\n",
              "      }\n",
              "\n",
              "      .colab-df-generate:hover {\n",
              "        background-color: #E2EBFA;\n",
              "        box-shadow: 0px 1px 2px rgba(60, 64, 67, 0.3), 0px 1px 3px 1px rgba(60, 64, 67, 0.15);\n",
              "        fill: #174EA6;\n",
              "      }\n",
              "\n",
              "      [theme=dark] .colab-df-generate {\n",
              "        background-color: #3B4455;\n",
              "        fill: #D2E3FC;\n",
              "      }\n",
              "\n",
              "      [theme=dark] .colab-df-generate:hover {\n",
              "        background-color: #434B5C;\n",
              "        box-shadow: 0px 1px 3px 1px rgba(0, 0, 0, 0.15);\n",
              "        filter: drop-shadow(0px 1px 2px rgba(0, 0, 0, 0.3));\n",
              "        fill: #FFFFFF;\n",
              "      }\n",
              "    </style>\n",
              "    <button class=\"colab-df-generate\" onclick=\"generateWithVariable('results_df')\"\n",
              "            title=\"Generate code using this dataframe.\"\n",
              "            style=\"display:none;\">\n",
              "\n",
              "  <svg xmlns=\"http://www.w3.org/2000/svg\" height=\"24px\"viewBox=\"0 0 24 24\"\n",
              "       width=\"24px\">\n",
              "    <path d=\"M7,19H8.4L18.45,9,17,7.55,7,17.6ZM5,21V16.75L18.45,3.32a2,2,0,0,1,2.83,0l1.4,1.43a1.91,1.91,0,0,1,.58,1.4,1.91,1.91,0,0,1-.58,1.4L9.25,21ZM18.45,9,17,7.55Zm-12,3A5.31,5.31,0,0,0,4.9,8.1,5.31,5.31,0,0,0,1,6.5,5.31,5.31,0,0,0,4.9,4.9,5.31,5.31,0,0,0,6.5,1,5.31,5.31,0,0,0,8.1,4.9,5.31,5.31,0,0,0,12,6.5,5.46,5.46,0,0,0,6.5,12Z\"/>\n",
              "  </svg>\n",
              "    </button>\n",
              "    <script>\n",
              "      (() => {\n",
              "      const buttonEl =\n",
              "        document.querySelector('#id_cef24a72-c7e6-4930-bc1e-d71ad7811476 button.colab-df-generate');\n",
              "      buttonEl.style.display =\n",
              "        google.colab.kernel.accessAllowed ? 'block' : 'none';\n",
              "\n",
              "      buttonEl.onclick = () => {\n",
              "        google.colab.notebook.generateWithVariable('results_df');\n",
              "      }\n",
              "      })();\n",
              "    </script>\n",
              "  </div>\n",
              "\n",
              "    </div>\n",
              "  </div>\n"
            ],
            "application/vnd.google.colaboratory.intrinsic+json": {
              "type": "dataframe",
              "variable_name": "results_df",
              "summary": "{\n  \"name\": \"results_df\",\n  \"rows\": 6000,\n  \"fields\": [\n    {\n      \"column\": \"trial_id\",\n      \"properties\": {\n        \"dtype\": \"number\",\n        \"std\": 17,\n        \"min\": 977,\n        \"max\": 1036,\n        \"num_unique_values\": 60,\n        \"samples\": [\n          977,\n          982,\n          1013\n        ],\n        \"semantic_type\": \"\",\n        \"description\": \"\"\n      }\n    },\n    {\n      \"column\": \"prob_id\",\n      \"properties\": {\n        \"dtype\": \"number\",\n        \"std\": 0.0,\n        \"min\": 4.0,\n        \"max\": 4.0,\n        \"num_unique_values\": 1,\n        \"samples\": [\n          4.0\n        ],\n        \"semantic_type\": \"\",\n        \"description\": \"\"\n      }\n    },\n    {\n      \"column\": \"a1\",\n      \"properties\": {\n        \"dtype\": \"number\",\n        \"std\": 0.0,\n        \"min\": 6.0,\n        \"max\": 6.0,\n        \"num_unique_values\": 1,\n        \"samples\": [\n          6.0\n        ],\n        \"semantic_type\": \"\",\n        \"description\": \"\"\n      }\n    },\n    {\n      \"column\": \"pa1\",\n      \"properties\": {\n        \"dtype\": \"number\",\n        \"std\": 0.0,\n        \"min\": 0.5,\n        \"max\": 0.5,\n        \"num_unique_values\": 1,\n        \"samples\": [\n          0.5\n        ],\n        \"semantic_type\": \"\",\n        \"description\": \"\"\n      }\n    },\n    {\n      \"column\": \"a2\",\n      \"properties\": {\n        \"dtype\": \"number\",\n        \"std\": 0.0,\n        \"min\": 0.0,\n        \"max\": 0.0,\n        \"num_unique_values\": 1,\n        \"samples\": [\n          0.0\n        ],\n        \"semantic_type\": \"\",\n        \"description\": \"\"\n      }\n    },\n    {\n      \"column\": \"b1\",\n      \"properties\": {\n        \"dtype\": \"number\",\n        \"std\": 0.0,\n        \"min\": 8.0,\n        \"max\": 8.0,\n        \"num_unique_values\": 1,\n        \"samples\": [\n          8.0\n        ],\n        \"semantic_type\": \"\",\n        \"description\": \"\"\n      }\n    },\n    {\n      \"column\": \"pb1\",\n      \"properties\": {\n        \"dtype\": \"number\",\n        \"std\": 0.0,\n        \"min\": 0.5,\n        \"max\": 0.5,\n        \"num_unique_values\": 1,\n        \"samples\": [\n          0.5\n        ],\n        \"semantic_type\": \"\",\n        \"description\": \"\"\n      }\n    },\n    {\n      \"column\": \"b2\",\n      \"properties\": {\n        \"dtype\": \"number\",\n        \"std\": 0.0,\n        \"min\": 0.0,\n        \"max\": 0.0,\n        \"num_unique_values\": 1,\n        \"samples\": [\n          0.0\n        ],\n        \"semantic_type\": \"\",\n        \"description\": \"\"\n      }\n    },\n    {\n      \"column\": \"corrAB\",\n      \"properties\": {\n        \"dtype\": \"number\",\n        \"std\": 0.0,\n        \"min\": -1.0,\n        \"max\": -1.0,\n        \"num_unique_values\": 1,\n        \"samples\": [\n          -1.0\n        ],\n        \"semantic_type\": \"\",\n        \"description\": \"\"\n      }\n    },\n    {\n      \"column\": \"model_name\",\n      \"properties\": {\n        \"dtype\": \"category\",\n        \"num_unique_values\": 1,\n        \"samples\": [\n          \"gemini-1.5-flash\"\n        ],\n        \"semantic_type\": \"\",\n        \"description\": \"\"\n      }\n    },\n    {\n      \"column\": \"history_provided\",\n      \"properties\": {\n        \"dtype\": \"category\",\n        \"num_unique_values\": 1,\n        \"samples\": [\n          \"all\"\n        ],\n        \"semantic_type\": \"\",\n        \"description\": \"\"\n      }\n    },\n    {\n      \"column\": \"temperature\",\n      \"properties\": {\n        \"dtype\": \"number\",\n        \"std\": 0.7364187719340346,\n        \"min\": 0.2,\n        \"max\": 2.0,\n        \"num_unique_values\": 3,\n        \"samples\": [\n          0.2\n        ],\n        \"semantic_type\": \"\",\n        \"description\": \"\"\n      }\n    },\n    {\n      \"column\": \"round_number\",\n      \"properties\": {\n        \"dtype\": \"number\",\n        \"std\": 28,\n        \"min\": 1,\n        \"max\": 100,\n        \"num_unique_values\": 100,\n        \"samples\": [\n          84\n        ],\n        \"semantic_type\": \"\",\n        \"description\": \"\"\n      }\n    },\n    {\n      \"column\": \"choice\",\n      \"properties\": {\n        \"dtype\": \"category\",\n        \"num_unique_values\": 2,\n        \"samples\": [\n          \"B\"\n        ],\n        \"semantic_type\": \"\",\n        \"description\": \"\"\n      }\n    },\n    {\n      \"column\": \"outcome\",\n      \"properties\": {\n        \"dtype\": \"number\",\n        \"std\": 3.9289200328240685,\n        \"min\": 0.0,\n        \"max\": 8.0,\n        \"num_unique_values\": 3,\n        \"samples\": [\n          6.0\n        ],\n        \"semantic_type\": \"\",\n        \"description\": \"\"\n      }\n    },\n    {\n      \"column\": \"alternative\",\n      \"properties\": {\n        \"dtype\": \"number\",\n        \"std\": 3.126725667888647,\n        \"min\": 0.0,\n        \"max\": 8.0,\n        \"num_unique_values\": 3,\n        \"samples\": [\n          0.0\n        ],\n        \"semantic_type\": \"\",\n        \"description\": \"\"\n      }\n    }\n  ]\n}"
            }
          },
          "metadata": {},
          "execution_count": 17
        }
      ],
      "source": [
        "results_df"
      ]
    },
    {
      "cell_type": "markdown",
      "source": [
        "### Motivation Experiments"
      ],
      "metadata": {
        "id": "VHWh1qR1YSHm"
      }
    },
    {
      "cell_type": "code",
      "source": [
        "def generate_response(model, messages, history_provided, history):\n",
        "  return model.generate_content(messages) if history_provided else history.send_message(messages)\n",
        "\n",
        "def get_model_dict(model_name, history_provided, temp = 1):\n",
        "    return {'model_name': model_name, 'history_provided': history_provided, 'temperature': temp}\n",
        "\n",
        "def set_prompt(round_details: dict, history_provided, history):\n",
        "  round_num = max(round_details.keys())\n",
        "  prev_round = round_details[round_num]\n",
        "  prev_alt = 'B' if prev_round['choice'] == 'A' else 'A'\n",
        "  if history_provided == 'all':\n",
        "    messages = f\"You selected {prev_round['choice']} and recieved a payoff of {prev_round['outcome']}. Had you selected {prev_alt}, you would have recieved {prev_round['alternative']}.\" + Prompts.hist_dict.value + f\"{history}. The current round number is {round_num}:\" + Prompts.cont_reasoning.value\n",
        "  elif history_provided == 'chat':\n",
        "    messages.append({\"role\": \"model\", \"parts\": [prev_round['choice']]})\n",
        "    messages.append({\"role\": \"user\", \"parts\": [f\"You selected {prev_round['choice']} and recieved a payoff of {prev_round['outcome']}. Had you selected {prev_alt}, you would have recieved {prev_round['alternative']}.\" + Prompts.cont_reasoning.value]})\n",
        "  else:\n",
        "    messages = f\"You selected {prev_round['choice']} and recieved a payoff of {prev_round['outcome']}. Had you selected {prev_alt}, you would have recieved {prev_round['alternative']}.\" + Prompts.cont_reasoning.value\n",
        "  return messages\n",
        "\n",
        "def set_history(history, history_provided, round_details: dict):\n",
        "  if history_provided == 'all':\n",
        "      history = round_details\n",
        "  return history\n",
        "\n",
        "def get_response(model, messages, history_provided, history):\n",
        "  retries = 0\n",
        "  while retries < 7:\n",
        "    try:\n",
        "      response = generate_response(model, messages, history_provided, history)\n",
        "      print(response.text)\n",
        "      #r = re.sub(r'\\s+', '', response.text[:2])\n",
        "      r = response.text\n",
        "      if r[0] == 'A' or r[0] == 'B' or r[1] == 'A' or r[1] == 'B':\n",
        "        return messages, r[0], r[2:]\n",
        "      else:\n",
        "        if history_provided == 'chat':\n",
        "          messages.append({\"role\": \"assistant\", \"parts\": [r]})\n",
        "          messages.append({\"role\": \"user\", \"parts\": \"Your previous response was invalid. Please ensure your choice begins with single character, either 'A' or 'B', followed by your reasoning.\"})\n",
        "        else:\n",
        "          messages = \"Your previous response was invalid. Please ensure your choice begins with single character, either 'A' or 'B', followed by your reasoning.\" + messages\n",
        "        print('retrying call')\n",
        "        continue\n",
        "    except Exception as e:\n",
        "      print(f\"An error occurred: {e}\")\n",
        "\n",
        "    time.sleep(0.5 * (2 * retries))\n",
        "    retries += 1\n",
        "\n",
        "  print(\"Max retries exceeded. API call failed.\")\n",
        "  return None"
      ],
      "metadata": {
        "id": "gjhzF4UwYVGb"
      },
      "execution_count": null,
      "outputs": []
    },
    {
      "cell_type": "code",
      "source": [
        "class ReasoningTrial:\n",
        "  def __init__(self, trial_id: int, trials_df: pd.DataFrame, model: (GeminiModel | OpenAIModel), num_rounds: int = 100, trial_idx: (str | int) = 'random'):\n",
        "    idx = np.random.randint(0, len(trials_df)) if trial_idx == 'random' else trial_idx\n",
        "    row = trials_df.iloc[idx]\n",
        "    self.num_rounds = num_rounds\n",
        "    self.trial_id = trial_id\n",
        "    self.prob_id = row['id']\n",
        "    self.a1 = row['a1']\n",
        "    self.pa1 = row['pa1']\n",
        "    self.a2 = row['a2']\n",
        "    self.b1 = row['b1']\n",
        "    self.pb1 = row['pb1']\n",
        "    self.b2 = row['b2']\n",
        "    self.corrAB = row['corrAB']\n",
        "    self.round_num = 1\n",
        "    self.rounds_details = {}\n",
        "\n",
        "  def create_trial_dict(self, model_name, history_provided):\n",
        "    self.trial_dict = {'trial_id': self.trial_id, 'prob_id': self.prob_id, 'a1': self.a1, 'pa1': self.pa1, 'a2': self.a2, 'b1': self.b1, 'pb1': self.pb1, 'b2': self.b2, 'corrAB': self.corrAB}\n",
        "    self.trial_dict.update(get_model_dict(model_name, history_provided))\n",
        "    return self.trial_dict\n",
        "\n",
        "  def create_results_df(self, model_name, history_provided):\n",
        "    d = self.create_trial_dict(model_name, history_provided)\n",
        "    rows = []\n",
        "    for round_number, round_info in self.rounds_details.items():\n",
        "      row = {**d, 'round_number': round_number, **round_info,}\n",
        "      rows.append(row)\n",
        "    return pd.DataFrame(rows)\n",
        "\n",
        "  def run_trial(self, model, messages, history_provided, history):\n",
        "    for i in tqdm(range(self.num_rounds)):\n",
        "      messages, choice, reasoning = get_response(model, messages, history_provided, history)\n",
        "      if choice == None:\n",
        "        break\n",
        "      self.simulate_round(choice, reasoning)\n",
        "      history = set_history(history, history_provided, self.rounds_details)\n",
        "      messages = set_prompt(self.rounds_details, history_provided, history)\n",
        "      self.round_num += 1\n",
        "    return self.create_results_df(model_name, history_provided)\n",
        "\n",
        "  def simulate_round(self, choice: str, reasoning: str):\n",
        "    rand_a, rand_b = np.random.rand(), np.random.rand()\n",
        "    if self.corrAB != 0:\n",
        "      rand_b = rand_a if self.corrAB == 1 else 1 - rand_a\n",
        "    if choice == 'A':\n",
        "        outcome = self.a1 if rand_a < self.pa1 else self.a2\n",
        "        alternative = self.b1 if rand_b < self.pb1 else self.b2\n",
        "    else:\n",
        "        outcome = self.b1 if rand_b < self.pb1 else self.b2\n",
        "        alternative = self.a1 if rand_a < self.pa1 else self.a2\n",
        "    self.rounds_details[self.round_num] = {'choice': choice,\n",
        "                                              'outcome': outcome,\n",
        "                                              'alternative': alternative,\n",
        "                                              'motivation': reasoning}"
      ],
      "metadata": {
        "id": "E8R3u2Qwcw2w"
      },
      "execution_count": null,
      "outputs": []
    },
    {
      "cell_type": "code",
      "source": [
        "model_name = 'gemini-1.5-flash'\n",
        "history_provided = 'all'\n",
        "\n",
        "genai.configure(api_key=gemini_token)\n",
        "model = genai.GenerativeModel(model_name = model_name)\n",
        "messages = [{\"role\": \"user\", \"parts\": Prompts.init_reasoning.value}] if history_provided == 'chat' else Prompts.init_reasoning.value\n",
        "history = {} if history_provided else model.start_chat(history=[])"
      ],
      "metadata": {
        "id": "EDr3K12Jb_q3"
      },
      "execution_count": null,
      "outputs": []
    },
    {
      "cell_type": "code",
      "source": [
        "trial = ReasoningTrial(100000, df, model, 100, 0)\n",
        "trial_results = trial.run_trial(model, messages, history_provided, history)\n",
        "timestamp = get_timestamp()\n",
        "trial_results.to_csv(os.path.join(path_prefix, f'reasoning_trial_results_{model_name}_{history_provided}_{timestamp}.csv'), index=False)"
      ],
      "metadata": {
        "colab": {
          "base_uri": "https://localhost:8080/",
          "height": 1000
        },
        "id": "ICwPeW0leZhr",
        "outputId": "0c38c0bb-3fa9-4a4f-acb4-abcb78322f0a"
      },
      "execution_count": null,
      "outputs": [
        {
          "output_type": "stream",
          "name": "stderr",
          "text": [
            "  1%|          | 1/100 [00:12<20:27, 12.40s/it]"
          ]
        },
        {
          "output_type": "stream",
          "name": "stdout",
          "text": [
            "As an AI, I am unable to make choices based on subjective factors like \"motivation\" or \"preference.\" I require specific information about the potential payoffs for option A and option B to provide a reasoned response. \n",
            "\n",
            "Please provide the payoffs for each option, and I will analyze them to determine the optimal choice. \n",
            "\n"
          ]
        },
        {
          "output_type": "stream",
          "name": "stderr",
          "text": [
            "\r  2%|▏         | 2/100 [00:13<09:31,  5.83s/it]"
          ]
        },
        {
          "output_type": "stream",
          "name": "stdout",
          "text": [
            "B \n",
            "This is a simple case of maximizing reward. Since B would have yielded a higher payoff in the previous round, choosing B in the current round has a higher probability of yielding a better outcome. \n",
            "\n"
          ]
        },
        {
          "output_type": "stream",
          "name": "stderr",
          "text": [
            "\r  3%|▎         | 3/100 [00:14<06:03,  3.75s/it]"
          ]
        },
        {
          "output_type": "stream",
          "name": "stdout",
          "text": [
            "A \n",
            "Here's why:  The previous round resulted in a negative outcome (-10) for choosing B. While there's no guarantee, choosing A seems like a better bet to potentially avoid a negative outcome again.  \n",
            "\n"
          ]
        },
        {
          "output_type": "stream",
          "name": "stderr",
          "text": [
            "\r  4%|▍         | 4/100 [00:16<04:23,  2.75s/it]"
          ]
        },
        {
          "output_type": "stream",
          "name": "stdout",
          "text": [
            "A\n",
            "\n",
            "The history of the game shows a pattern of alternating between positive and negative outcomes for the options. Since the last round resulted in a positive outcome for option A, it's reasonable to assume that option B might have a negative outcome in this round. \n",
            "\n"
          ]
        },
        {
          "output_type": "stream",
          "name": "stderr",
          "text": [
            "\r  5%|▌         | 5/100 [00:17<03:27,  2.18s/it]"
          ]
        },
        {
          "output_type": "stream",
          "name": "stdout",
          "text": [
            "B \n",
            "\n",
            "The history of the game shows a pattern of alternating between positive and negative outcomes for the options. Since the last round resulted in a positive outcome for option A, it's reasonable to assume that option B might have a positive outcome in this round. \n",
            "\n"
          ]
        },
        {
          "output_type": "stream",
          "name": "stderr",
          "text": [
            "\r  6%|▌         | 6/100 [00:18<02:52,  1.84s/it]"
          ]
        },
        {
          "output_type": "stream",
          "name": "stdout",
          "text": [
            "B\n",
            "\n",
            "The history suggests a pattern of alternating outcomes between A and B.  Since the last round resulted in a positive outcome for B, it's reasonable to assume that B might have a positive outcome in this round. \n",
            "\n"
          ]
        },
        {
          "output_type": "stream",
          "name": "stderr",
          "text": [
            "\r  7%|▋         | 7/100 [00:19<02:25,  1.56s/it]"
          ]
        },
        {
          "output_type": "stream",
          "name": "stdout",
          "text": [
            "B \n",
            "\n"
          ]
        },
        {
          "output_type": "stream",
          "name": "stderr",
          "text": [
            "\r  8%|▊         | 8/100 [00:20<02:11,  1.43s/it]"
          ]
        },
        {
          "output_type": "stream",
          "name": "stdout",
          "text": [
            "B\n",
            "\n",
            "The history of the game shows a strong pattern of alternating outcomes between A and B. Since the last round resulted in a positive outcome for B, it's reasonable to assume that B might have a positive outcome in this round. \n",
            "\n"
          ]
        },
        {
          "output_type": "stream",
          "name": "stderr",
          "text": [
            "\r  9%|▉         | 9/100 [00:21<02:01,  1.33s/it]"
          ]
        },
        {
          "output_type": "stream",
          "name": "stdout",
          "text": [
            "B \n",
            "The history of the game shows a strong pattern of alternating outcomes between A and B. Since the last round resulted in a positive outcome for B, it's reasonable to assume that B might have a positive outcome in this round. \n",
            "\n"
          ]
        },
        {
          "output_type": "stream",
          "name": "stderr",
          "text": [
            "\r 10%|█         | 10/100 [00:22<01:58,  1.31s/it]"
          ]
        },
        {
          "output_type": "stream",
          "name": "stdout",
          "text": [
            "B \n",
            "The history of the game shows a strong pattern of alternating outcomes between A and B. Since the last round resulted in a positive outcome for B, it's reasonable to assume that B might have a positive outcome in this round. \n",
            "\n"
          ]
        },
        {
          "output_type": "stream",
          "name": "stderr",
          "text": [
            "\r 11%|█         | 11/100 [00:24<01:55,  1.29s/it]"
          ]
        },
        {
          "output_type": "stream",
          "name": "stdout",
          "text": [
            "B\n",
            "\n",
            "The history of the game shows a strong pattern of alternating outcomes between A and B. Since the last round resulted in a positive outcome for B, it's reasonable to assume that B might have a positive outcome in this round. \n",
            "\n"
          ]
        },
        {
          "output_type": "stream",
          "name": "stderr",
          "text": [
            "\r 12%|█▏        | 12/100 [00:25<01:49,  1.25s/it]"
          ]
        },
        {
          "output_type": "stream",
          "name": "stdout",
          "text": [
            "B\n",
            "\n",
            "The history of the game shows a strong pattern of alternating outcomes between A and B. Since the last round resulted in a positive outcome for B, it's reasonable to assume that B might have a positive outcome in this round. \n",
            "\n"
          ]
        },
        {
          "output_type": "stream",
          "name": "stderr",
          "text": [
            "\r 13%|█▎        | 13/100 [00:26<01:45,  1.21s/it]"
          ]
        },
        {
          "output_type": "stream",
          "name": "stdout",
          "text": [
            "B\n",
            "\n",
            "The history of the game shows a strong pattern of alternating outcomes between A and B. Since the last round resulted in a positive outcome for B, it's reasonable to assume that B might have a positive outcome in this round. \n",
            "\n"
          ]
        },
        {
          "output_type": "stream",
          "name": "stderr",
          "text": [
            "\r 14%|█▍        | 14/100 [00:27<01:44,  1.21s/it]"
          ]
        },
        {
          "output_type": "stream",
          "name": "stdout",
          "text": [
            "B\n",
            "\n",
            "The history of the game shows a strong pattern of alternating outcomes between A and B. Since the last round resulted in a positive outcome for B, it's reasonable to assume that B might have a positive outcome in this round. \n",
            "\n"
          ]
        },
        {
          "output_type": "stream",
          "name": "stderr",
          "text": [
            "\r 15%|█▌        | 15/100 [00:28<01:41,  1.20s/it]"
          ]
        },
        {
          "output_type": "stream",
          "name": "stdout",
          "text": [
            "B\n",
            "\n",
            "The history of the game shows a strong pattern of alternating outcomes between A and B. Since the last round resulted in a positive outcome for B, it's reasonable to assume that B might have a positive outcome in this round. \n",
            "\n"
          ]
        },
        {
          "output_type": "stream",
          "name": "stderr",
          "text": [
            "\r 16%|█▌        | 16/100 [00:29<01:36,  1.15s/it]"
          ]
        },
        {
          "output_type": "stream",
          "name": "stdout",
          "text": [
            "B \n",
            "\n"
          ]
        },
        {
          "output_type": "stream",
          "name": "stderr",
          "text": [
            "\r 17%|█▋        | 17/100 [00:31<01:40,  1.21s/it]"
          ]
        },
        {
          "output_type": "stream",
          "name": "stdout",
          "text": [
            "B\n",
            "\n",
            "The history of the game shows a strong pattern of alternating outcomes between A and B. Since the last round resulted in a negative outcome for B, it's reasonable to assume that B might have a positive outcome in this round. \n",
            "\n"
          ]
        },
        {
          "output_type": "stream",
          "name": "stderr",
          "text": [
            "\r 18%|█▊        | 18/100 [00:32<01:42,  1.25s/it]"
          ]
        },
        {
          "output_type": "stream",
          "name": "stdout",
          "text": [
            "B\n",
            "\n",
            "The history of the game shows a strong pattern of alternating outcomes between A and B. Since the last round resulted in a negative outcome for B, it's reasonable to assume that B might have a positive outcome in this round. \n",
            "\n"
          ]
        },
        {
          "output_type": "stream",
          "name": "stderr",
          "text": [
            "\r 19%|█▉        | 19/100 [00:33<01:35,  1.18s/it]"
          ]
        },
        {
          "output_type": "stream",
          "name": "stdout",
          "text": [
            "B \n",
            "\n"
          ]
        },
        {
          "output_type": "stream",
          "name": "stderr",
          "text": [
            "\r 20%|██        | 20/100 [00:34<01:35,  1.19s/it]"
          ]
        },
        {
          "output_type": "stream",
          "name": "stdout",
          "text": [
            "B\n",
            "\n",
            "The history of the game shows a strong pattern of alternating outcomes between A and B. Since the last round resulted in a negative outcome for B, it's reasonable to assume that B might have a positive outcome in this round. \n",
            "\n"
          ]
        },
        {
          "output_type": "stream",
          "name": "stderr",
          "text": [
            "\r 21%|██        | 21/100 [00:35<01:29,  1.13s/it]"
          ]
        },
        {
          "output_type": "stream",
          "name": "stdout",
          "text": [
            "B \n",
            "\n"
          ]
        },
        {
          "output_type": "stream",
          "name": "stderr",
          "text": [
            "\r 22%|██▏       | 22/100 [00:37<01:29,  1.14s/it]"
          ]
        },
        {
          "output_type": "stream",
          "name": "stdout",
          "text": [
            "B\n",
            "\n",
            "The history of the game shows a strong pattern of alternating outcomes between A and B. Since the last round resulted in a positive outcome for B, it's reasonable to assume that B might have a positive outcome in this round. \n",
            "\n"
          ]
        },
        {
          "output_type": "stream",
          "name": "stderr",
          "text": [
            "\r 23%|██▎       | 23/100 [00:38<01:28,  1.15s/it]"
          ]
        },
        {
          "output_type": "stream",
          "name": "stdout",
          "text": [
            "B\n",
            "\n",
            "The history of the game shows a strong pattern of alternating outcomes between A and B. Since the last round resulted in a positive outcome for B, it's reasonable to assume that B might have a positive outcome in this round. \n",
            "\n"
          ]
        },
        {
          "output_type": "stream",
          "name": "stderr",
          "text": [
            "\r 24%|██▍       | 24/100 [00:39<01:28,  1.16s/it]"
          ]
        },
        {
          "output_type": "stream",
          "name": "stdout",
          "text": [
            "B\n",
            "\n",
            "The history of the game shows a strong pattern of alternating outcomes between A and B. Since the last round resulted in a positive outcome for B, it's reasonable to assume that B might have a positive outcome in this round. \n",
            "\n"
          ]
        },
        {
          "output_type": "stream",
          "name": "stderr",
          "text": [
            "\r 25%|██▌       | 25/100 [00:40<01:24,  1.12s/it]"
          ]
        },
        {
          "output_type": "stream",
          "name": "stdout",
          "text": [
            "B \n",
            "\n"
          ]
        },
        {
          "output_type": "stream",
          "name": "stderr",
          "text": [
            "\r 26%|██▌       | 26/100 [00:41<01:21,  1.11s/it]"
          ]
        },
        {
          "output_type": "stream",
          "name": "stdout",
          "text": [
            "B \n",
            "\n"
          ]
        },
        {
          "output_type": "stream",
          "name": "stderr",
          "text": [
            "\r 27%|██▋       | 27/100 [00:42<01:22,  1.13s/it]"
          ]
        },
        {
          "output_type": "stream",
          "name": "stdout",
          "text": [
            "B\n",
            "\n",
            "The history of the game strongly suggests a pattern of alternating outcomes between A and B. Since the last round resulted in a positive outcome for B, it's reasonable to assume that B might have a positive outcome in this round. \n",
            "\n"
          ]
        },
        {
          "output_type": "stream",
          "name": "stderr",
          "text": [
            "\r 28%|██▊       | 28/100 [00:43<01:19,  1.10s/it]"
          ]
        },
        {
          "output_type": "stream",
          "name": "stdout",
          "text": [
            "B \n",
            "\n"
          ]
        },
        {
          "output_type": "stream",
          "name": "stderr",
          "text": [
            "\r 29%|██▉       | 29/100 [00:44<01:21,  1.14s/it]"
          ]
        },
        {
          "output_type": "stream",
          "name": "stdout",
          "text": [
            "B\n",
            "\n",
            "The history of the game strongly suggests a pattern of alternating outcomes between A and B. Since the last round resulted in a positive outcome for B, it's reasonable to assume that B might have a positive outcome in this round. \n",
            "\n"
          ]
        },
        {
          "output_type": "stream",
          "name": "stderr",
          "text": [
            "\r 30%|███       | 30/100 [00:46<01:19,  1.14s/it]"
          ]
        },
        {
          "output_type": "stream",
          "name": "stdout",
          "text": [
            "B \n",
            "\n"
          ]
        },
        {
          "output_type": "stream",
          "name": "stderr",
          "text": [
            "\r 31%|███       | 31/100 [00:47<01:20,  1.16s/it]"
          ]
        },
        {
          "output_type": "stream",
          "name": "stdout",
          "text": [
            "B \n",
            "The game history shows a strong pattern of alternating outcomes between A and B, with the last few rounds resulting in a positive outcome for B. Following this pattern, it's reasonable to assume that B might have a positive outcome in this round. \n",
            "\n"
          ]
        },
        {
          "output_type": "stream",
          "name": "stderr",
          "text": [
            "\r 32%|███▏      | 32/100 [00:49<01:31,  1.34s/it]"
          ]
        },
        {
          "output_type": "stream",
          "name": "stdout",
          "text": [
            "B \n",
            "\n"
          ]
        },
        {
          "output_type": "stream",
          "name": "stderr",
          "text": [
            "\r 33%|███▎      | 33/100 [00:50<01:24,  1.27s/it]"
          ]
        },
        {
          "output_type": "stream",
          "name": "stdout",
          "text": [
            "B \n",
            "\n"
          ]
        },
        {
          "output_type": "stream",
          "name": "stderr",
          "text": [
            "\r 34%|███▍      | 34/100 [00:51<01:23,  1.27s/it]"
          ]
        },
        {
          "output_type": "stream",
          "name": "stdout",
          "text": [
            "B\n",
            "\n",
            "The history of the game strongly suggests a pattern of alternating outcomes between A and B, with the last few rounds resulting in a positive outcome for B. Following this pattern, it's reasonable to assume that B might have a positive outcome in this round. \n",
            "\n"
          ]
        },
        {
          "output_type": "stream",
          "name": "stderr",
          "text": [
            "\r 35%|███▌      | 35/100 [00:52<01:18,  1.21s/it]"
          ]
        },
        {
          "output_type": "stream",
          "name": "stdout",
          "text": [
            "B \n",
            "\n"
          ]
        },
        {
          "output_type": "stream",
          "name": "stderr",
          "text": [
            "\r 36%|███▌      | 36/100 [00:53<01:18,  1.23s/it]"
          ]
        },
        {
          "output_type": "stream",
          "name": "stdout",
          "text": [
            "B\n",
            "\n",
            "The game history strongly suggests a pattern of alternating outcomes between A and B, with the last few rounds resulting in a positive outcome for B. Following this pattern, it's reasonable to assume that B might have a positive outcome in this round. \n",
            "\n"
          ]
        },
        {
          "output_type": "stream",
          "name": "stderr",
          "text": [
            "\r 37%|███▋      | 37/100 [00:54<01:18,  1.24s/it]"
          ]
        },
        {
          "output_type": "stream",
          "name": "stdout",
          "text": [
            "B\n",
            "\n",
            "The history of the game strongly suggests a pattern of alternating outcomes between A and B, with the last few rounds resulting in a positive outcome for B. Following this pattern, it's reasonable to assume that B might have a positive outcome in this round. \n",
            "\n"
          ]
        },
        {
          "output_type": "stream",
          "name": "stderr",
          "text": [
            "\r 38%|███▊      | 38/100 [00:56<01:17,  1.25s/it]"
          ]
        },
        {
          "output_type": "stream",
          "name": "stdout",
          "text": [
            "B\n",
            "\n",
            "The history of the game strongly suggests a pattern of alternating outcomes between A and B, with the last few rounds resulting in a positive outcome for B. Following this pattern, it's reasonable to assume that B might have a positive outcome in this round. \n",
            "\n"
          ]
        },
        {
          "output_type": "stream",
          "name": "stderr",
          "text": [
            "\r 39%|███▉      | 39/100 [00:57<01:17,  1.26s/it]"
          ]
        },
        {
          "output_type": "stream",
          "name": "stdout",
          "text": [
            "B\n",
            "\n",
            "The history of the game strongly suggests a pattern of alternating outcomes between A and B, with the last few rounds resulting in a positive outcome for B. Following this pattern, it's reasonable to assume that B might have a positive outcome in this round. \n",
            "\n"
          ]
        },
        {
          "output_type": "stream",
          "name": "stderr",
          "text": [
            "\r 40%|████      | 40/100 [00:58<01:15,  1.25s/it]"
          ]
        },
        {
          "output_type": "stream",
          "name": "stdout",
          "text": [
            "B \n",
            "\n"
          ]
        },
        {
          "output_type": "stream",
          "name": "stderr",
          "text": [
            "\r 41%|████      | 41/100 [01:00<01:14,  1.27s/it]"
          ]
        },
        {
          "output_type": "stream",
          "name": "stdout",
          "text": [
            "B\n",
            "\n",
            "The history of the game strongly suggests a pattern of alternating outcomes between A and B, with the last few rounds resulting in a positive outcome for B. Following this pattern, it's reasonable to assume that B might have a positive outcome in this round. \n",
            "\n"
          ]
        },
        {
          "output_type": "stream",
          "name": "stderr",
          "text": [
            "\r 42%|████▏     | 42/100 [01:01<01:13,  1.27s/it]"
          ]
        },
        {
          "output_type": "stream",
          "name": "stdout",
          "text": [
            "B\n",
            "\n",
            "The history of the game shows a strong pattern of alternating outcomes between A and B, with the last few rounds resulting in a positive outcome for B. Following this pattern, it's reasonable to assume that B might have a positive outcome in this round. \n",
            "\n"
          ]
        },
        {
          "output_type": "stream",
          "name": "stderr",
          "text": [
            "\r 43%|████▎     | 43/100 [01:02<01:12,  1.27s/it]"
          ]
        },
        {
          "output_type": "stream",
          "name": "stdout",
          "text": [
            "B\n",
            "\n",
            "The history of the game shows a strong pattern of alternating outcomes between A and B, with the last few rounds resulting in a positive outcome for B. Following this pattern, it's reasonable to assume that B might have a positive outcome in this round. \n",
            "\n"
          ]
        },
        {
          "output_type": "stream",
          "name": "stderr",
          "text": [
            "\r 44%|████▍     | 44/100 [01:03<01:07,  1.21s/it]"
          ]
        },
        {
          "output_type": "stream",
          "name": "stdout",
          "text": [
            "B \n",
            "\n"
          ]
        },
        {
          "output_type": "stream",
          "name": "stderr",
          "text": [
            "\r 45%|████▌     | 45/100 [01:04<01:07,  1.23s/it]"
          ]
        },
        {
          "output_type": "stream",
          "name": "stdout",
          "text": [
            "B\n",
            "\n",
            "The history of the game shows a strong pattern of alternating outcomes between A and B, with the last few rounds resulting in a positive outcome for B. Following this pattern, it's reasonable to assume that B might have a positive outcome in this round. \n",
            "\n"
          ]
        },
        {
          "output_type": "stream",
          "name": "stderr",
          "text": [
            "\r 46%|████▌     | 46/100 [01:06<01:12,  1.33s/it]"
          ]
        },
        {
          "output_type": "stream",
          "name": "stdout",
          "text": [
            "B\n",
            "\n",
            "The history of the game shows a strong pattern of alternating outcomes between A and B, with the last few rounds resulting in a positive outcome for B. Following this pattern, it's reasonable to assume that B might have a positive outcome in this round. \n",
            "\n"
          ]
        },
        {
          "output_type": "stream",
          "name": "stderr",
          "text": [
            "\r 47%|████▋     | 47/100 [01:07<01:09,  1.31s/it]"
          ]
        },
        {
          "output_type": "stream",
          "name": "stdout",
          "text": [
            "B\n",
            "\n",
            "The history of the game shows a strong pattern of alternating outcomes between A and B, with the last few rounds resulting in a positive outcome for B. Following this pattern, it's reasonable to assume that B might have a positive outcome in this round. \n",
            "\n"
          ]
        },
        {
          "output_type": "stream",
          "name": "stderr",
          "text": [
            "\r 48%|████▊     | 48/100 [01:09<01:08,  1.32s/it]"
          ]
        },
        {
          "output_type": "stream",
          "name": "stdout",
          "text": [
            "B\n",
            "\n",
            "The history of the game shows a strong pattern of alternating outcomes between A and B, with the last few rounds resulting in a positive outcome for B. Following this pattern, it's reasonable to assume that B might have a positive outcome in this round. \n",
            "\n"
          ]
        },
        {
          "output_type": "stream",
          "name": "stderr",
          "text": [
            "\r 49%|████▉     | 49/100 [01:10<01:07,  1.31s/it]"
          ]
        },
        {
          "output_type": "stream",
          "name": "stdout",
          "text": [
            "B\n",
            "\n",
            "The history of the game shows a strong pattern of alternating outcomes between A and B, with the last few rounds resulting in a positive outcome for B. Following this pattern, it's reasonable to assume that B might have a positive outcome in this round. \n",
            "\n"
          ]
        },
        {
          "output_type": "stream",
          "name": "stderr",
          "text": [
            "\r 50%|█████     | 50/100 [01:11<01:05,  1.30s/it]"
          ]
        },
        {
          "output_type": "stream",
          "name": "stdout",
          "text": [
            "B\n",
            "\n",
            "The game history strongly suggests a pattern of alternating outcomes between A and B, with the last few rounds resulting in a positive outcome for B. Following this pattern, it's reasonable to assume that B might have a positive outcome in this round. \n",
            "\n"
          ]
        },
        {
          "output_type": "stream",
          "name": "stderr",
          "text": [
            "\r 51%|█████     | 51/100 [01:13<01:03,  1.29s/it]"
          ]
        },
        {
          "output_type": "stream",
          "name": "stdout",
          "text": [
            "B\n",
            "\n",
            "The history of the game shows a strong pattern of alternating outcomes between A and B. Since the last round resulted in a negative outcome for B, it's reasonable to assume that B might have a positive outcome in this round. \n",
            "\n"
          ]
        },
        {
          "output_type": "stream",
          "name": "stderr",
          "text": [
            "\r 52%|█████▏    | 52/100 [01:14<01:02,  1.30s/it]"
          ]
        },
        {
          "output_type": "stream",
          "name": "stdout",
          "text": [
            "B\n",
            "\n",
            "The history of the game shows a strong pattern of alternating outcomes between A and B. Since the last round resulted in a negative outcome for B, it's reasonable to assume that B might have a positive outcome in this round. \n",
            "\n"
          ]
        },
        {
          "output_type": "stream",
          "name": "stderr",
          "text": [
            "\r 53%|█████▎    | 53/100 [01:15<00:57,  1.23s/it]"
          ]
        },
        {
          "output_type": "stream",
          "name": "stdout",
          "text": [
            "B \n",
            "\n"
          ]
        },
        {
          "output_type": "stream",
          "name": "stderr",
          "text": [
            "\r 54%|█████▍    | 54/100 [01:16<00:57,  1.24s/it]"
          ]
        },
        {
          "output_type": "stream",
          "name": "stdout",
          "text": [
            "B\n",
            "\n",
            "The history of the game shows a strong pattern of alternating outcomes between A and B. Since the last round resulted in a positive outcome for B, it's reasonable to assume that B might have a positive outcome in this round. \n",
            "\n"
          ]
        },
        {
          "output_type": "stream",
          "name": "stderr",
          "text": [
            "\r 55%|█████▌    | 55/100 [01:17<00:56,  1.26s/it]"
          ]
        },
        {
          "output_type": "stream",
          "name": "stdout",
          "text": [
            "B\n",
            "\n",
            "The history of the game shows a strong pattern of alternating outcomes between A and B. Since the last round resulted in a positive outcome for B, it's reasonable to assume that B might have a positive outcome in this round. \n",
            "\n"
          ]
        },
        {
          "output_type": "stream",
          "name": "stderr",
          "text": [
            "\r 56%|█████▌    | 56/100 [01:19<00:52,  1.20s/it]"
          ]
        },
        {
          "output_type": "stream",
          "name": "stdout",
          "text": [
            "B \n",
            "\n"
          ]
        },
        {
          "output_type": "stream",
          "name": "stderr",
          "text": [
            "\r 57%|█████▋    | 57/100 [01:20<00:52,  1.23s/it]"
          ]
        },
        {
          "output_type": "stream",
          "name": "stdout",
          "text": [
            "B\n",
            "\n",
            "The history of the game shows a strong pattern of alternating outcomes between A and B, with the last few rounds resulting in a positive outcome for B. Following this pattern, it's reasonable to assume that B might have a positive outcome in this round. \n",
            "\n"
          ]
        },
        {
          "output_type": "stream",
          "name": "stderr",
          "text": [
            "\r 58%|█████▊    | 58/100 [01:21<00:52,  1.24s/it]"
          ]
        },
        {
          "output_type": "stream",
          "name": "stdout",
          "text": [
            "B\n",
            "\n",
            "The history of the game shows a strong pattern of alternating outcomes between A and B, with the last few rounds resulting in a positive outcome for B. Following this pattern, it's reasonable to assume that B might have a positive outcome in this round. \n",
            "\n"
          ]
        },
        {
          "output_type": "stream",
          "name": "stderr",
          "text": [
            "\r 59%|█████▉    | 59/100 [01:23<00:53,  1.30s/it]"
          ]
        },
        {
          "output_type": "stream",
          "name": "stdout",
          "text": [
            "B\n",
            "\n",
            "The history of the game shows a strong pattern of alternating outcomes between A and B, with the last few rounds resulting in a positive outcome for B. Following this pattern, it's reasonable to assume that B might have a positive outcome in this round. \n",
            "\n"
          ]
        },
        {
          "output_type": "stream",
          "name": "stderr",
          "text": [
            "\r 60%|██████    | 60/100 [01:24<00:52,  1.31s/it]"
          ]
        },
        {
          "output_type": "stream",
          "name": "stdout",
          "text": [
            "B\n",
            "\n",
            "The history of the game shows a strong pattern of alternating outcomes between A and B, with the last few rounds resulting in a positive outcome for B. Following this pattern, it's reasonable to assume that B might have a positive outcome in this round. \n",
            "\n"
          ]
        },
        {
          "output_type": "stream",
          "name": "stderr",
          "text": [
            "\r 61%|██████    | 61/100 [01:25<00:53,  1.37s/it]"
          ]
        },
        {
          "output_type": "stream",
          "name": "stdout",
          "text": [
            "B\n",
            "\n",
            "The history of the game shows a strong pattern of alternating outcomes between A and B, with the last few rounds resulting in a positive outcome for B. Following this pattern, it's reasonable to assume that B might have a positive outcome in this round. \n",
            "\n"
          ]
        },
        {
          "output_type": "stream",
          "name": "stderr",
          "text": [
            "\r 62%|██████▏   | 62/100 [01:27<00:53,  1.41s/it]"
          ]
        },
        {
          "output_type": "stream",
          "name": "stdout",
          "text": [
            "B\n",
            "\n",
            "The history of the game shows a strong pattern of alternating outcomes between A and B, with the last few rounds resulting in a positive outcome for B. Following this pattern, it's reasonable to assume that B might have a positive outcome in this round. \n",
            "\n"
          ]
        },
        {
          "output_type": "stream",
          "name": "stderr",
          "text": [
            "\r 63%|██████▎   | 63/100 [01:28<00:51,  1.40s/it]"
          ]
        },
        {
          "output_type": "stream",
          "name": "stdout",
          "text": [
            "B\n",
            "\n",
            "The history of the game shows a strong pattern of alternating outcomes between A and B, with the last few rounds resulting in a positive outcome for B. Following this pattern, it's reasonable to assume that B might have a positive outcome in this round. \n",
            "\n"
          ]
        },
        {
          "output_type": "stream",
          "name": "stderr",
          "text": [
            "\r 64%|██████▍   | 64/100 [01:30<00:51,  1.43s/it]"
          ]
        },
        {
          "output_type": "stream",
          "name": "stdout",
          "text": [
            "B\n",
            "\n",
            "The history of the game shows a strong pattern of alternating outcomes between A and B, with the last few rounds resulting in a positive outcome for B. Following this pattern, it's reasonable to assume that B might have a positive outcome in this round. \n",
            "\n"
          ]
        },
        {
          "output_type": "stream",
          "name": "stderr",
          "text": [
            "\r 65%|██████▌   | 65/100 [01:31<00:50,  1.45s/it]"
          ]
        },
        {
          "output_type": "stream",
          "name": "stdout",
          "text": [
            "B\n",
            "\n",
            "The history of the game shows a strong pattern of alternating outcomes between A and B, with the last few rounds resulting in a positive outcome for B. Following this pattern, it's reasonable to assume that B might have a positive outcome in this round. \n",
            "\n"
          ]
        },
        {
          "output_type": "stream",
          "name": "stderr",
          "text": [
            "\r 66%|██████▌   | 66/100 [01:32<00:46,  1.38s/it]"
          ]
        },
        {
          "output_type": "stream",
          "name": "stdout",
          "text": [
            "B \n",
            "\n"
          ]
        },
        {
          "output_type": "stream",
          "name": "stderr",
          "text": [
            "\r 67%|██████▋   | 67/100 [01:34<00:44,  1.36s/it]"
          ]
        },
        {
          "output_type": "stream",
          "name": "stdout",
          "text": [
            "B\n",
            "\n",
            "The history of the game shows a strong pattern of alternating outcomes between A and B. Since the last round resulted in a positive outcome for B, it's reasonable to assume that B might have a positive outcome in this round. \n",
            "\n"
          ]
        },
        {
          "output_type": "stream",
          "name": "stderr",
          "text": [
            "\r 68%|██████▊   | 68/100 [01:35<00:43,  1.37s/it]"
          ]
        },
        {
          "output_type": "stream",
          "name": "stdout",
          "text": [
            "B\n",
            "\n",
            "The history of the game shows a strong pattern of alternating outcomes between A and B. Since the last round resulted in a positive outcome for B, it's reasonable to assume that B might have a positive outcome in this round. \n",
            "\n"
          ]
        },
        {
          "output_type": "stream",
          "name": "stderr",
          "text": [
            "\r 69%|██████▉   | 69/100 [01:37<00:42,  1.37s/it]"
          ]
        },
        {
          "output_type": "stream",
          "name": "stdout",
          "text": [
            "B\n",
            "\n",
            "The game history shows a strong pattern of alternating outcomes between A and B, with the last few rounds resulting in a positive outcome for B. Following this pattern, it's reasonable to assume that B might have a positive outcome in this round. \n",
            "\n"
          ]
        },
        {
          "output_type": "stream",
          "name": "stderr",
          "text": [
            "\r 70%|███████   | 70/100 [01:38<00:41,  1.38s/it]"
          ]
        },
        {
          "output_type": "stream",
          "name": "stdout",
          "text": [
            "B\n",
            "\n",
            "The history of the game shows a strong pattern of alternating outcomes between A and B. Since the last round resulted in a positive outcome for B, it's reasonable to assume that B might have a positive outcome in this round. \n",
            "\n"
          ]
        },
        {
          "output_type": "stream",
          "name": "stderr",
          "text": [
            "\r 71%|███████   | 71/100 [01:39<00:40,  1.39s/it]"
          ]
        },
        {
          "output_type": "stream",
          "name": "stdout",
          "text": [
            "B\n",
            "\n",
            "The history of the game shows a strong pattern of alternating outcomes between A and B. Since the last round resulted in a positive outcome for B, it's reasonable to assume that B might have a positive outcome in this round. \n",
            "\n"
          ]
        },
        {
          "output_type": "stream",
          "name": "stderr",
          "text": [
            "\r 72%|███████▏  | 72/100 [01:41<00:39,  1.40s/it]"
          ]
        },
        {
          "output_type": "stream",
          "name": "stdout",
          "text": [
            "B\n",
            "\n",
            "The history of the game shows a strong pattern of alternating outcomes between A and B. Since the last round resulted in a positive outcome for B, it's reasonable to assume that B might have a positive outcome in this round. \n",
            "\n"
          ]
        },
        {
          "output_type": "stream",
          "name": "stderr",
          "text": [
            "\r 73%|███████▎  | 73/100 [01:42<00:38,  1.41s/it]"
          ]
        },
        {
          "output_type": "stream",
          "name": "stdout",
          "text": [
            "B\n",
            "\n",
            "The history of the game shows a strong pattern of alternating outcomes between A and B, with the last few rounds resulting in a positive outcome for B. Following this pattern, it's reasonable to assume that B might have a positive outcome in this round. \n",
            "\n"
          ]
        },
        {
          "output_type": "stream",
          "name": "stderr",
          "text": [
            "\r 74%|███████▍  | 74/100 [01:44<00:36,  1.40s/it]"
          ]
        },
        {
          "output_type": "stream",
          "name": "stdout",
          "text": [
            "B\n",
            "\n",
            "The history of the game shows a strong pattern of alternating outcomes between A and B, with the last few rounds resulting in a positive outcome for B. Following this pattern, it's reasonable to assume that B might have a positive outcome in this round. \n",
            "\n"
          ]
        },
        {
          "output_type": "stream",
          "name": "stderr",
          "text": [
            "\r 75%|███████▌  | 75/100 [01:45<00:34,  1.39s/it]"
          ]
        },
        {
          "output_type": "stream",
          "name": "stdout",
          "text": [
            "B\n",
            "\n",
            "The history of the game shows a strong pattern of alternating outcomes between A and B, with the last few rounds resulting in a positive outcome for B. Following this pattern, it's reasonable to assume that B might have a positive outcome in this round. \n",
            "\n"
          ]
        },
        {
          "output_type": "stream",
          "name": "stderr",
          "text": [
            "\r 76%|███████▌  | 76/100 [01:46<00:33,  1.39s/it]"
          ]
        },
        {
          "output_type": "stream",
          "name": "stdout",
          "text": [
            "B\n",
            "\n",
            "The history of the game shows a strong pattern of alternating outcomes between A and B, with the last few rounds resulting in a positive outcome for B. Following this pattern, it's reasonable to assume that B might have a positive outcome in this round. \n",
            "\n"
          ]
        },
        {
          "output_type": "stream",
          "name": "stderr",
          "text": [
            "\r 77%|███████▋  | 77/100 [01:48<00:31,  1.38s/it]"
          ]
        },
        {
          "output_type": "stream",
          "name": "stdout",
          "text": [
            "B\n",
            "\n",
            "The history of the game shows a strong pattern of alternating outcomes between A and B, with the last few rounds resulting in a positive outcome for B. Following this pattern, it's reasonable to assume that B might have a positive outcome in this round. \n",
            "\n"
          ]
        },
        {
          "output_type": "stream",
          "name": "stderr",
          "text": [
            "\r 78%|███████▊  | 78/100 [01:49<00:29,  1.34s/it]"
          ]
        },
        {
          "output_type": "stream",
          "name": "stdout",
          "text": [
            "B \n",
            "\n"
          ]
        },
        {
          "output_type": "stream",
          "name": "stderr",
          "text": [
            "\r 79%|███████▉  | 79/100 [01:50<00:28,  1.36s/it]"
          ]
        },
        {
          "output_type": "stream",
          "name": "stdout",
          "text": [
            "B\n",
            "\n",
            "The history of the game shows a strong pattern of alternating outcomes between A and B, with the last few rounds resulting in a positive outcome for B. Following this pattern, it's reasonable to assume that B might have a positive outcome in this round. \n",
            "\n"
          ]
        },
        {
          "output_type": "stream",
          "name": "stderr",
          "text": [
            "\r 80%|████████  | 80/100 [01:52<00:26,  1.31s/it]"
          ]
        },
        {
          "output_type": "stream",
          "name": "stdout",
          "text": [
            "B \n",
            "\n"
          ]
        },
        {
          "output_type": "stream",
          "name": "stderr",
          "text": [
            "\r 81%|████████  | 81/100 [01:53<00:24,  1.27s/it]"
          ]
        },
        {
          "output_type": "stream",
          "name": "stdout",
          "text": [
            "B \n",
            "\n"
          ]
        },
        {
          "output_type": "stream",
          "name": "stderr",
          "text": [
            "\r 82%|████████▏ | 82/100 [01:54<00:23,  1.30s/it]"
          ]
        },
        {
          "output_type": "stream",
          "name": "stdout",
          "text": [
            "B\n",
            "\n",
            "The history of the game shows a strong pattern of alternating outcomes between A and B, with the last few rounds resulting in a positive outcome for B. Following this pattern, it's reasonable to assume that B might have a positive outcome in this round. \n",
            "\n"
          ]
        },
        {
          "output_type": "stream",
          "name": "stderr",
          "text": [
            "\r 83%|████████▎ | 83/100 [01:55<00:21,  1.25s/it]"
          ]
        },
        {
          "output_type": "stream",
          "name": "stdout",
          "text": [
            "B \n",
            "\n"
          ]
        },
        {
          "output_type": "stream",
          "name": "stderr",
          "text": [
            "\r 84%|████████▍ | 84/100 [01:57<00:20,  1.29s/it]"
          ]
        },
        {
          "output_type": "stream",
          "name": "stdout",
          "text": [
            "B\n",
            "\n",
            "The history of the game shows a strong pattern of alternating outcomes between A and B, with the last few rounds resulting in a positive outcome for B. Following this pattern, it's reasonable to assume that B might have a positive outcome in this round. \n",
            "\n"
          ]
        },
        {
          "output_type": "stream",
          "name": "stderr",
          "text": [
            "\r 85%|████████▌ | 85/100 [01:58<00:20,  1.34s/it]"
          ]
        },
        {
          "output_type": "stream",
          "name": "stdout",
          "text": [
            "B\n",
            "\n",
            "The history of the game shows a strong pattern of alternating outcomes between A and B, with the last few rounds resulting in a positive outcome for B. Following this pattern, it's reasonable to assume that B might have a positive outcome in this round. \n",
            "\n"
          ]
        },
        {
          "output_type": "stream",
          "name": "stderr",
          "text": [
            "\r 86%|████████▌ | 86/100 [01:59<00:19,  1.37s/it]"
          ]
        },
        {
          "output_type": "stream",
          "name": "stdout",
          "text": [
            "B\n",
            "\n",
            "The history of the game shows a strong pattern of alternating outcomes between A and B, with the last few rounds resulting in a positive outcome for B. Following this pattern, it's reasonable to assume that B might have a positive outcome in this round. \n",
            "\n"
          ]
        },
        {
          "output_type": "stream",
          "name": "stderr",
          "text": [
            "\r 87%|████████▋ | 87/100 [02:01<00:17,  1.38s/it]"
          ]
        },
        {
          "output_type": "stream",
          "name": "stdout",
          "text": [
            "B\n",
            "\n",
            "The history of the game shows a strong pattern of alternating outcomes between A and B, with the last few rounds resulting in a positive outcome for B. Following this pattern, it's reasonable to assume that B might have a positive outcome in this round. \n",
            "\n"
          ]
        },
        {
          "output_type": "stream",
          "name": "stderr",
          "text": [
            "\r 88%|████████▊ | 88/100 [02:02<00:16,  1.37s/it]"
          ]
        },
        {
          "output_type": "stream",
          "name": "stdout",
          "text": [
            "B\n",
            "\n",
            "The history of the game shows a strong pattern of alternating outcomes between A and B, with the last few rounds resulting in a positive outcome for B. Following this pattern, it's reasonable to assume that B might have a positive outcome in this round. \n",
            "\n"
          ]
        },
        {
          "output_type": "stream",
          "name": "stderr",
          "text": [
            "\r 89%|████████▉ | 89/100 [02:04<00:15,  1.38s/it]"
          ]
        },
        {
          "output_type": "stream",
          "name": "stdout",
          "text": [
            "B\n",
            "\n",
            "The history of the game shows a strong pattern of alternating outcomes between A and B, with the last few rounds resulting in a positive outcome for B. Following this pattern, it's reasonable to assume that B might have a positive outcome in this round. \n",
            "\n"
          ]
        },
        {
          "output_type": "stream",
          "name": "stderr",
          "text": [
            "\r 90%|█████████ | 90/100 [02:05<00:13,  1.39s/it]"
          ]
        },
        {
          "output_type": "stream",
          "name": "stdout",
          "text": [
            "B\n",
            "\n",
            "The history of the game shows a strong pattern of alternating outcomes between A and B, with the last few rounds resulting in a positive outcome for B. Following this pattern, it's reasonable to assume that B might have a positive outcome in this round. \n",
            "\n"
          ]
        },
        {
          "output_type": "stream",
          "name": "stderr",
          "text": [
            "\r 91%|█████████ | 91/100 [02:06<00:12,  1.41s/it]"
          ]
        },
        {
          "output_type": "stream",
          "name": "stdout",
          "text": [
            "B\n",
            "\n",
            "The history of the game shows a strong pattern of alternating outcomes between A and B, with the last few rounds resulting in a positive outcome for B. Following this pattern, it's reasonable to assume that B might have a positive outcome in this round. \n",
            "\n"
          ]
        },
        {
          "output_type": "stream",
          "name": "stderr",
          "text": [
            "\r 92%|█████████▏| 92/100 [02:08<00:11,  1.41s/it]"
          ]
        },
        {
          "output_type": "stream",
          "name": "stdout",
          "text": [
            "B\n",
            "\n",
            "The history of the game shows a strong pattern of alternating outcomes between A and B, with the last few rounds resulting in a positive outcome for B. Following this pattern, it's reasonable to assume that B might have a positive outcome in this round. \n",
            "\n"
          ]
        },
        {
          "output_type": "stream",
          "name": "stderr",
          "text": [
            "\r 93%|█████████▎| 93/100 [02:09<00:09,  1.35s/it]"
          ]
        },
        {
          "output_type": "stream",
          "name": "stdout",
          "text": [
            "B \n",
            "\n"
          ]
        },
        {
          "output_type": "stream",
          "name": "stderr",
          "text": [
            "\r 94%|█████████▍| 94/100 [02:11<00:08,  1.41s/it]"
          ]
        },
        {
          "output_type": "stream",
          "name": "stdout",
          "text": [
            "B\n",
            "\n",
            "The history of the game shows a strong pattern of alternating outcomes between A and B, with the last few rounds resulting in a positive outcome for B. Following this pattern, it's reasonable to assume that B might have a positive outcome in this round. \n",
            "\n"
          ]
        },
        {
          "output_type": "stream",
          "name": "stderr",
          "text": [
            "\r 95%|█████████▌| 95/100 [02:12<00:07,  1.44s/it]"
          ]
        },
        {
          "output_type": "stream",
          "name": "stdout",
          "text": [
            "B\n",
            "\n",
            "The history of the game shows a strong pattern of alternating outcomes between A and B, with the last few rounds resulting in a positive outcome for B. Following this pattern, it's reasonable to assume that B might have a positive outcome in this round. \n",
            "\n"
          ]
        },
        {
          "output_type": "stream",
          "name": "stderr",
          "text": [
            "\r 96%|█████████▌| 96/100 [02:13<00:05,  1.38s/it]"
          ]
        },
        {
          "output_type": "stream",
          "name": "stdout",
          "text": [
            "B \n",
            "\n"
          ]
        },
        {
          "output_type": "stream",
          "name": "stderr",
          "text": [
            "\r 97%|█████████▋| 97/100 [02:15<00:04,  1.35s/it]"
          ]
        },
        {
          "output_type": "stream",
          "name": "stdout",
          "text": [
            "B \n",
            "\n"
          ]
        },
        {
          "output_type": "stream",
          "name": "stderr",
          "text": [
            "\r 98%|█████████▊| 98/100 [02:16<00:02,  1.36s/it]"
          ]
        },
        {
          "output_type": "stream",
          "name": "stdout",
          "text": [
            "B\n",
            "\n",
            "The history of the game shows a very strong pattern of alternating outcomes between A and B. Since the last round resulted in a positive outcome for B, it's reasonable to assume that B might have a positive outcome in this round. \n",
            "\n"
          ]
        },
        {
          "output_type": "stream",
          "name": "stderr",
          "text": [
            "\r 99%|█████████▉| 99/100 [02:18<00:01,  1.39s/it]"
          ]
        },
        {
          "output_type": "stream",
          "name": "stdout",
          "text": [
            "B\n",
            "\n",
            "The history of the game shows a very strong pattern of alternating outcomes between A and B. Since the last round resulted in a positive outcome for B, it's reasonable to assume that B might have a positive outcome in this round. \n",
            "\n"
          ]
        },
        {
          "output_type": "stream",
          "name": "stderr",
          "text": [
            "100%|██████████| 100/100 [02:19<00:00,  1.40s/it]"
          ]
        },
        {
          "output_type": "stream",
          "name": "stdout",
          "text": [
            "B\n",
            "\n",
            "The history of the game shows a very strong pattern of alternating outcomes between A and B. Since the last round resulted in a positive outcome for B, it's reasonable to assume that B might have a positive outcome in this round. \n",
            "\n"
          ]
        },
        {
          "output_type": "stream",
          "name": "stderr",
          "text": [
            "\n"
          ]
        }
      ]
    },
    {
      "cell_type": "code",
      "source": [
        "trial_results"
      ],
      "metadata": {
        "colab": {
          "base_uri": "https://localhost:8080/",
          "height": 840
        },
        "id": "E9c0J7ctl8YC",
        "outputId": "2ec3f5e9-8ec3-46b4-9e9d-d66169e0c080"
      },
      "execution_count": null,
      "outputs": [
        {
          "output_type": "execute_result",
          "data": {
            "text/plain": [
              "    trial_id  prob_id   a1  pa1   a2   b1  pb1    b2  corrAB  \\\n",
              "0     100000      1.0  0.0  1.0  0.0  1.0  0.9 -10.0     0.0   \n",
              "1     100000      1.0  0.0  1.0  0.0  1.0  0.9 -10.0     0.0   \n",
              "2     100000      1.0  0.0  1.0  0.0  1.0  0.9 -10.0     0.0   \n",
              "3     100000      1.0  0.0  1.0  0.0  1.0  0.9 -10.0     0.0   \n",
              "4     100000      1.0  0.0  1.0  0.0  1.0  0.9 -10.0     0.0   \n",
              "..       ...      ...  ...  ...  ...  ...  ...   ...     ...   \n",
              "95    100000      1.0  0.0  1.0  0.0  1.0  0.9 -10.0     0.0   \n",
              "96    100000      1.0  0.0  1.0  0.0  1.0  0.9 -10.0     0.0   \n",
              "97    100000      1.0  0.0  1.0  0.0  1.0  0.9 -10.0     0.0   \n",
              "98    100000      1.0  0.0  1.0  0.0  1.0  0.9 -10.0     0.0   \n",
              "99    100000      1.0  0.0  1.0  0.0  1.0  0.9 -10.0     0.0   \n",
              "\n",
              "          model_name history_provided  temperature  round_number choice  \\\n",
              "0   gemini-1.5-flash             None            1             1      A   \n",
              "1   gemini-1.5-flash             None            1             2      B   \n",
              "2   gemini-1.5-flash             None            1             3      B   \n",
              "3   gemini-1.5-flash             None            1             4      B   \n",
              "4   gemini-1.5-flash             None            1             5      B   \n",
              "..               ...              ...          ...           ...    ...   \n",
              "95  gemini-1.5-flash             None            1            96      A   \n",
              "96  gemini-1.5-flash             None            1            97      B   \n",
              "97  gemini-1.5-flash             None            1            98      B   \n",
              "98  gemini-1.5-flash             None            1            99      B   \n",
              "99  gemini-1.5-flash             None            1           100      B   \n",
              "\n",
              "    outcome  alternative                                         motivation  \n",
              "0       0.0          1.0   an AI, I don't have the ability to make choic...  \n",
              "1       1.0          0.0  \\nThe previous round showed that option B yiel...  \n",
              "2       1.0          0.0  \\nOption B has consistently provided a higher ...  \n",
              "3       1.0          0.0  \\nGiven that option B has consistently yielded...  \n",
              "4     -10.0          0.0  \\nOption B has consistently produced a higher ...  \n",
              "..      ...          ...                                                ...  \n",
              "95      0.0          1.0  \\nThe previous round showed a significant nega...  \n",
              "96      1.0          0.0  \\nWhile option B resulted in a significant los...  \n",
              "97      1.0          0.0  \\nThe previous round confirmed that option B i...  \n",
              "98      1.0          0.0  \\nOption B has consistently produced a higher ...  \n",
              "99      1.0          0.0  \\nOption B has continued to provide a higher p...  \n",
              "\n",
              "[100 rows x 17 columns]"
            ],
            "text/html": [
              "\n",
              "  <div id=\"df-62868d3f-c2c5-4b86-9e71-87c934b8d121\" class=\"colab-df-container\">\n",
              "    <div>\n",
              "<style scoped>\n",
              "    .dataframe tbody tr th:only-of-type {\n",
              "        vertical-align: middle;\n",
              "    }\n",
              "\n",
              "    .dataframe tbody tr th {\n",
              "        vertical-align: top;\n",
              "    }\n",
              "\n",
              "    .dataframe thead th {\n",
              "        text-align: right;\n",
              "    }\n",
              "</style>\n",
              "<table border=\"1\" class=\"dataframe\">\n",
              "  <thead>\n",
              "    <tr style=\"text-align: right;\">\n",
              "      <th></th>\n",
              "      <th>trial_id</th>\n",
              "      <th>prob_id</th>\n",
              "      <th>a1</th>\n",
              "      <th>pa1</th>\n",
              "      <th>a2</th>\n",
              "      <th>b1</th>\n",
              "      <th>pb1</th>\n",
              "      <th>b2</th>\n",
              "      <th>corrAB</th>\n",
              "      <th>model_name</th>\n",
              "      <th>history_provided</th>\n",
              "      <th>temperature</th>\n",
              "      <th>round_number</th>\n",
              "      <th>choice</th>\n",
              "      <th>outcome</th>\n",
              "      <th>alternative</th>\n",
              "      <th>motivation</th>\n",
              "    </tr>\n",
              "  </thead>\n",
              "  <tbody>\n",
              "    <tr>\n",
              "      <th>0</th>\n",
              "      <td>100000</td>\n",
              "      <td>1.0</td>\n",
              "      <td>0.0</td>\n",
              "      <td>1.0</td>\n",
              "      <td>0.0</td>\n",
              "      <td>1.0</td>\n",
              "      <td>0.9</td>\n",
              "      <td>-10.0</td>\n",
              "      <td>0.0</td>\n",
              "      <td>gemini-1.5-flash</td>\n",
              "      <td>None</td>\n",
              "      <td>1</td>\n",
              "      <td>1</td>\n",
              "      <td>A</td>\n",
              "      <td>0.0</td>\n",
              "      <td>1.0</td>\n",
              "      <td>an AI, I don't have the ability to make choic...</td>\n",
              "    </tr>\n",
              "    <tr>\n",
              "      <th>1</th>\n",
              "      <td>100000</td>\n",
              "      <td>1.0</td>\n",
              "      <td>0.0</td>\n",
              "      <td>1.0</td>\n",
              "      <td>0.0</td>\n",
              "      <td>1.0</td>\n",
              "      <td>0.9</td>\n",
              "      <td>-10.0</td>\n",
              "      <td>0.0</td>\n",
              "      <td>gemini-1.5-flash</td>\n",
              "      <td>None</td>\n",
              "      <td>1</td>\n",
              "      <td>2</td>\n",
              "      <td>B</td>\n",
              "      <td>1.0</td>\n",
              "      <td>0.0</td>\n",
              "      <td>\\nThe previous round showed that option B yiel...</td>\n",
              "    </tr>\n",
              "    <tr>\n",
              "      <th>2</th>\n",
              "      <td>100000</td>\n",
              "      <td>1.0</td>\n",
              "      <td>0.0</td>\n",
              "      <td>1.0</td>\n",
              "      <td>0.0</td>\n",
              "      <td>1.0</td>\n",
              "      <td>0.9</td>\n",
              "      <td>-10.0</td>\n",
              "      <td>0.0</td>\n",
              "      <td>gemini-1.5-flash</td>\n",
              "      <td>None</td>\n",
              "      <td>1</td>\n",
              "      <td>3</td>\n",
              "      <td>B</td>\n",
              "      <td>1.0</td>\n",
              "      <td>0.0</td>\n",
              "      <td>\\nOption B has consistently provided a higher ...</td>\n",
              "    </tr>\n",
              "    <tr>\n",
              "      <th>3</th>\n",
              "      <td>100000</td>\n",
              "      <td>1.0</td>\n",
              "      <td>0.0</td>\n",
              "      <td>1.0</td>\n",
              "      <td>0.0</td>\n",
              "      <td>1.0</td>\n",
              "      <td>0.9</td>\n",
              "      <td>-10.0</td>\n",
              "      <td>0.0</td>\n",
              "      <td>gemini-1.5-flash</td>\n",
              "      <td>None</td>\n",
              "      <td>1</td>\n",
              "      <td>4</td>\n",
              "      <td>B</td>\n",
              "      <td>1.0</td>\n",
              "      <td>0.0</td>\n",
              "      <td>\\nGiven that option B has consistently yielded...</td>\n",
              "    </tr>\n",
              "    <tr>\n",
              "      <th>4</th>\n",
              "      <td>100000</td>\n",
              "      <td>1.0</td>\n",
              "      <td>0.0</td>\n",
              "      <td>1.0</td>\n",
              "      <td>0.0</td>\n",
              "      <td>1.0</td>\n",
              "      <td>0.9</td>\n",
              "      <td>-10.0</td>\n",
              "      <td>0.0</td>\n",
              "      <td>gemini-1.5-flash</td>\n",
              "      <td>None</td>\n",
              "      <td>1</td>\n",
              "      <td>5</td>\n",
              "      <td>B</td>\n",
              "      <td>-10.0</td>\n",
              "      <td>0.0</td>\n",
              "      <td>\\nOption B has consistently produced a higher ...</td>\n",
              "    </tr>\n",
              "    <tr>\n",
              "      <th>...</th>\n",
              "      <td>...</td>\n",
              "      <td>...</td>\n",
              "      <td>...</td>\n",
              "      <td>...</td>\n",
              "      <td>...</td>\n",
              "      <td>...</td>\n",
              "      <td>...</td>\n",
              "      <td>...</td>\n",
              "      <td>...</td>\n",
              "      <td>...</td>\n",
              "      <td>...</td>\n",
              "      <td>...</td>\n",
              "      <td>...</td>\n",
              "      <td>...</td>\n",
              "      <td>...</td>\n",
              "      <td>...</td>\n",
              "      <td>...</td>\n",
              "    </tr>\n",
              "    <tr>\n",
              "      <th>95</th>\n",
              "      <td>100000</td>\n",
              "      <td>1.0</td>\n",
              "      <td>0.0</td>\n",
              "      <td>1.0</td>\n",
              "      <td>0.0</td>\n",
              "      <td>1.0</td>\n",
              "      <td>0.9</td>\n",
              "      <td>-10.0</td>\n",
              "      <td>0.0</td>\n",
              "      <td>gemini-1.5-flash</td>\n",
              "      <td>None</td>\n",
              "      <td>1</td>\n",
              "      <td>96</td>\n",
              "      <td>A</td>\n",
              "      <td>0.0</td>\n",
              "      <td>1.0</td>\n",
              "      <td>\\nThe previous round showed a significant nega...</td>\n",
              "    </tr>\n",
              "    <tr>\n",
              "      <th>96</th>\n",
              "      <td>100000</td>\n",
              "      <td>1.0</td>\n",
              "      <td>0.0</td>\n",
              "      <td>1.0</td>\n",
              "      <td>0.0</td>\n",
              "      <td>1.0</td>\n",
              "      <td>0.9</td>\n",
              "      <td>-10.0</td>\n",
              "      <td>0.0</td>\n",
              "      <td>gemini-1.5-flash</td>\n",
              "      <td>None</td>\n",
              "      <td>1</td>\n",
              "      <td>97</td>\n",
              "      <td>B</td>\n",
              "      <td>1.0</td>\n",
              "      <td>0.0</td>\n",
              "      <td>\\nWhile option B resulted in a significant los...</td>\n",
              "    </tr>\n",
              "    <tr>\n",
              "      <th>97</th>\n",
              "      <td>100000</td>\n",
              "      <td>1.0</td>\n",
              "      <td>0.0</td>\n",
              "      <td>1.0</td>\n",
              "      <td>0.0</td>\n",
              "      <td>1.0</td>\n",
              "      <td>0.9</td>\n",
              "      <td>-10.0</td>\n",
              "      <td>0.0</td>\n",
              "      <td>gemini-1.5-flash</td>\n",
              "      <td>None</td>\n",
              "      <td>1</td>\n",
              "      <td>98</td>\n",
              "      <td>B</td>\n",
              "      <td>1.0</td>\n",
              "      <td>0.0</td>\n",
              "      <td>\\nThe previous round confirmed that option B i...</td>\n",
              "    </tr>\n",
              "    <tr>\n",
              "      <th>98</th>\n",
              "      <td>100000</td>\n",
              "      <td>1.0</td>\n",
              "      <td>0.0</td>\n",
              "      <td>1.0</td>\n",
              "      <td>0.0</td>\n",
              "      <td>1.0</td>\n",
              "      <td>0.9</td>\n",
              "      <td>-10.0</td>\n",
              "      <td>0.0</td>\n",
              "      <td>gemini-1.5-flash</td>\n",
              "      <td>None</td>\n",
              "      <td>1</td>\n",
              "      <td>99</td>\n",
              "      <td>B</td>\n",
              "      <td>1.0</td>\n",
              "      <td>0.0</td>\n",
              "      <td>\\nOption B has consistently produced a higher ...</td>\n",
              "    </tr>\n",
              "    <tr>\n",
              "      <th>99</th>\n",
              "      <td>100000</td>\n",
              "      <td>1.0</td>\n",
              "      <td>0.0</td>\n",
              "      <td>1.0</td>\n",
              "      <td>0.0</td>\n",
              "      <td>1.0</td>\n",
              "      <td>0.9</td>\n",
              "      <td>-10.0</td>\n",
              "      <td>0.0</td>\n",
              "      <td>gemini-1.5-flash</td>\n",
              "      <td>None</td>\n",
              "      <td>1</td>\n",
              "      <td>100</td>\n",
              "      <td>B</td>\n",
              "      <td>1.0</td>\n",
              "      <td>0.0</td>\n",
              "      <td>\\nOption B has continued to provide a higher p...</td>\n",
              "    </tr>\n",
              "  </tbody>\n",
              "</table>\n",
              "<p>100 rows × 17 columns</p>\n",
              "</div>\n",
              "    <div class=\"colab-df-buttons\">\n",
              "\n",
              "  <div class=\"colab-df-container\">\n",
              "    <button class=\"colab-df-convert\" onclick=\"convertToInteractive('df-62868d3f-c2c5-4b86-9e71-87c934b8d121')\"\n",
              "            title=\"Convert this dataframe to an interactive table.\"\n",
              "            style=\"display:none;\">\n",
              "\n",
              "  <svg xmlns=\"http://www.w3.org/2000/svg\" height=\"24px\" viewBox=\"0 -960 960 960\">\n",
              "    <path d=\"M120-120v-720h720v720H120Zm60-500h600v-160H180v160Zm220 220h160v-160H400v160Zm0 220h160v-160H400v160ZM180-400h160v-160H180v160Zm440 0h160v-160H620v160ZM180-180h160v-160H180v160Zm440 0h160v-160H620v160Z\"/>\n",
              "  </svg>\n",
              "    </button>\n",
              "\n",
              "  <style>\n",
              "    .colab-df-container {\n",
              "      display:flex;\n",
              "      gap: 12px;\n",
              "    }\n",
              "\n",
              "    .colab-df-convert {\n",
              "      background-color: #E8F0FE;\n",
              "      border: none;\n",
              "      border-radius: 50%;\n",
              "      cursor: pointer;\n",
              "      display: none;\n",
              "      fill: #1967D2;\n",
              "      height: 32px;\n",
              "      padding: 0 0 0 0;\n",
              "      width: 32px;\n",
              "    }\n",
              "\n",
              "    .colab-df-convert:hover {\n",
              "      background-color: #E2EBFA;\n",
              "      box-shadow: 0px 1px 2px rgba(60, 64, 67, 0.3), 0px 1px 3px 1px rgba(60, 64, 67, 0.15);\n",
              "      fill: #174EA6;\n",
              "    }\n",
              "\n",
              "    .colab-df-buttons div {\n",
              "      margin-bottom: 4px;\n",
              "    }\n",
              "\n",
              "    [theme=dark] .colab-df-convert {\n",
              "      background-color: #3B4455;\n",
              "      fill: #D2E3FC;\n",
              "    }\n",
              "\n",
              "    [theme=dark] .colab-df-convert:hover {\n",
              "      background-color: #434B5C;\n",
              "      box-shadow: 0px 1px 3px 1px rgba(0, 0, 0, 0.15);\n",
              "      filter: drop-shadow(0px 1px 2px rgba(0, 0, 0, 0.3));\n",
              "      fill: #FFFFFF;\n",
              "    }\n",
              "  </style>\n",
              "\n",
              "    <script>\n",
              "      const buttonEl =\n",
              "        document.querySelector('#df-62868d3f-c2c5-4b86-9e71-87c934b8d121 button.colab-df-convert');\n",
              "      buttonEl.style.display =\n",
              "        google.colab.kernel.accessAllowed ? 'block' : 'none';\n",
              "\n",
              "      async function convertToInteractive(key) {\n",
              "        const element = document.querySelector('#df-62868d3f-c2c5-4b86-9e71-87c934b8d121');\n",
              "        const dataTable =\n",
              "          await google.colab.kernel.invokeFunction('convertToInteractive',\n",
              "                                                    [key], {});\n",
              "        if (!dataTable) return;\n",
              "\n",
              "        const docLinkHtml = 'Like what you see? Visit the ' +\n",
              "          '<a target=\"_blank\" href=https://colab.research.google.com/notebooks/data_table.ipynb>data table notebook</a>'\n",
              "          + ' to learn more about interactive tables.';\n",
              "        element.innerHTML = '';\n",
              "        dataTable['output_type'] = 'display_data';\n",
              "        await google.colab.output.renderOutput(dataTable, element);\n",
              "        const docLink = document.createElement('div');\n",
              "        docLink.innerHTML = docLinkHtml;\n",
              "        element.appendChild(docLink);\n",
              "      }\n",
              "    </script>\n",
              "  </div>\n",
              "\n",
              "\n",
              "<div id=\"df-98a45743-fbad-4496-9c9a-f8bbbea56339\">\n",
              "  <button class=\"colab-df-quickchart\" onclick=\"quickchart('df-98a45743-fbad-4496-9c9a-f8bbbea56339')\"\n",
              "            title=\"Suggest charts\"\n",
              "            style=\"display:none;\">\n",
              "\n",
              "<svg xmlns=\"http://www.w3.org/2000/svg\" height=\"24px\"viewBox=\"0 0 24 24\"\n",
              "     width=\"24px\">\n",
              "    <g>\n",
              "        <path d=\"M19 3H5c-1.1 0-2 .9-2 2v14c0 1.1.9 2 2 2h14c1.1 0 2-.9 2-2V5c0-1.1-.9-2-2-2zM9 17H7v-7h2v7zm4 0h-2V7h2v10zm4 0h-2v-4h2v4z\"/>\n",
              "    </g>\n",
              "</svg>\n",
              "  </button>\n",
              "\n",
              "<style>\n",
              "  .colab-df-quickchart {\n",
              "      --bg-color: #E8F0FE;\n",
              "      --fill-color: #1967D2;\n",
              "      --hover-bg-color: #E2EBFA;\n",
              "      --hover-fill-color: #174EA6;\n",
              "      --disabled-fill-color: #AAA;\n",
              "      --disabled-bg-color: #DDD;\n",
              "  }\n",
              "\n",
              "  [theme=dark] .colab-df-quickchart {\n",
              "      --bg-color: #3B4455;\n",
              "      --fill-color: #D2E3FC;\n",
              "      --hover-bg-color: #434B5C;\n",
              "      --hover-fill-color: #FFFFFF;\n",
              "      --disabled-bg-color: #3B4455;\n",
              "      --disabled-fill-color: #666;\n",
              "  }\n",
              "\n",
              "  .colab-df-quickchart {\n",
              "    background-color: var(--bg-color);\n",
              "    border: none;\n",
              "    border-radius: 50%;\n",
              "    cursor: pointer;\n",
              "    display: none;\n",
              "    fill: var(--fill-color);\n",
              "    height: 32px;\n",
              "    padding: 0;\n",
              "    width: 32px;\n",
              "  }\n",
              "\n",
              "  .colab-df-quickchart:hover {\n",
              "    background-color: var(--hover-bg-color);\n",
              "    box-shadow: 0 1px 2px rgba(60, 64, 67, 0.3), 0 1px 3px 1px rgba(60, 64, 67, 0.15);\n",
              "    fill: var(--button-hover-fill-color);\n",
              "  }\n",
              "\n",
              "  .colab-df-quickchart-complete:disabled,\n",
              "  .colab-df-quickchart-complete:disabled:hover {\n",
              "    background-color: var(--disabled-bg-color);\n",
              "    fill: var(--disabled-fill-color);\n",
              "    box-shadow: none;\n",
              "  }\n",
              "\n",
              "  .colab-df-spinner {\n",
              "    border: 2px solid var(--fill-color);\n",
              "    border-color: transparent;\n",
              "    border-bottom-color: var(--fill-color);\n",
              "    animation:\n",
              "      spin 1s steps(1) infinite;\n",
              "  }\n",
              "\n",
              "  @keyframes spin {\n",
              "    0% {\n",
              "      border-color: transparent;\n",
              "      border-bottom-color: var(--fill-color);\n",
              "      border-left-color: var(--fill-color);\n",
              "    }\n",
              "    20% {\n",
              "      border-color: transparent;\n",
              "      border-left-color: var(--fill-color);\n",
              "      border-top-color: var(--fill-color);\n",
              "    }\n",
              "    30% {\n",
              "      border-color: transparent;\n",
              "      border-left-color: var(--fill-color);\n",
              "      border-top-color: var(--fill-color);\n",
              "      border-right-color: var(--fill-color);\n",
              "    }\n",
              "    40% {\n",
              "      border-color: transparent;\n",
              "      border-right-color: var(--fill-color);\n",
              "      border-top-color: var(--fill-color);\n",
              "    }\n",
              "    60% {\n",
              "      border-color: transparent;\n",
              "      border-right-color: var(--fill-color);\n",
              "    }\n",
              "    80% {\n",
              "      border-color: transparent;\n",
              "      border-right-color: var(--fill-color);\n",
              "      border-bottom-color: var(--fill-color);\n",
              "    }\n",
              "    90% {\n",
              "      border-color: transparent;\n",
              "      border-bottom-color: var(--fill-color);\n",
              "    }\n",
              "  }\n",
              "</style>\n",
              "\n",
              "  <script>\n",
              "    async function quickchart(key) {\n",
              "      const quickchartButtonEl =\n",
              "        document.querySelector('#' + key + ' button');\n",
              "      quickchartButtonEl.disabled = true;  // To prevent multiple clicks.\n",
              "      quickchartButtonEl.classList.add('colab-df-spinner');\n",
              "      try {\n",
              "        const charts = await google.colab.kernel.invokeFunction(\n",
              "            'suggestCharts', [key], {});\n",
              "      } catch (error) {\n",
              "        console.error('Error during call to suggestCharts:', error);\n",
              "      }\n",
              "      quickchartButtonEl.classList.remove('colab-df-spinner');\n",
              "      quickchartButtonEl.classList.add('colab-df-quickchart-complete');\n",
              "    }\n",
              "    (() => {\n",
              "      let quickchartButtonEl =\n",
              "        document.querySelector('#df-98a45743-fbad-4496-9c9a-f8bbbea56339 button');\n",
              "      quickchartButtonEl.style.display =\n",
              "        google.colab.kernel.accessAllowed ? 'block' : 'none';\n",
              "    })();\n",
              "  </script>\n",
              "</div>\n",
              "\n",
              "  <div id=\"id_983aaf9f-9cb7-424b-bd97-4d23f0923242\">\n",
              "    <style>\n",
              "      .colab-df-generate {\n",
              "        background-color: #E8F0FE;\n",
              "        border: none;\n",
              "        border-radius: 50%;\n",
              "        cursor: pointer;\n",
              "        display: none;\n",
              "        fill: #1967D2;\n",
              "        height: 32px;\n",
              "        padding: 0 0 0 0;\n",
              "        width: 32px;\n",
              "      }\n",
              "\n",
              "      .colab-df-generate:hover {\n",
              "        background-color: #E2EBFA;\n",
              "        box-shadow: 0px 1px 2px rgba(60, 64, 67, 0.3), 0px 1px 3px 1px rgba(60, 64, 67, 0.15);\n",
              "        fill: #174EA6;\n",
              "      }\n",
              "\n",
              "      [theme=dark] .colab-df-generate {\n",
              "        background-color: #3B4455;\n",
              "        fill: #D2E3FC;\n",
              "      }\n",
              "\n",
              "      [theme=dark] .colab-df-generate:hover {\n",
              "        background-color: #434B5C;\n",
              "        box-shadow: 0px 1px 3px 1px rgba(0, 0, 0, 0.15);\n",
              "        filter: drop-shadow(0px 1px 2px rgba(0, 0, 0, 0.3));\n",
              "        fill: #FFFFFF;\n",
              "      }\n",
              "    </style>\n",
              "    <button class=\"colab-df-generate\" onclick=\"generateWithVariable('trial_results')\"\n",
              "            title=\"Generate code using this dataframe.\"\n",
              "            style=\"display:none;\">\n",
              "\n",
              "  <svg xmlns=\"http://www.w3.org/2000/svg\" height=\"24px\"viewBox=\"0 0 24 24\"\n",
              "       width=\"24px\">\n",
              "    <path d=\"M7,19H8.4L18.45,9,17,7.55,7,17.6ZM5,21V16.75L18.45,3.32a2,2,0,0,1,2.83,0l1.4,1.43a1.91,1.91,0,0,1,.58,1.4,1.91,1.91,0,0,1-.58,1.4L9.25,21ZM18.45,9,17,7.55Zm-12,3A5.31,5.31,0,0,0,4.9,8.1,5.31,5.31,0,0,0,1,6.5,5.31,5.31,0,0,0,4.9,4.9,5.31,5.31,0,0,0,6.5,1,5.31,5.31,0,0,0,8.1,4.9,5.31,5.31,0,0,0,12,6.5,5.46,5.46,0,0,0,6.5,12Z\"/>\n",
              "  </svg>\n",
              "    </button>\n",
              "    <script>\n",
              "      (() => {\n",
              "      const buttonEl =\n",
              "        document.querySelector('#id_983aaf9f-9cb7-424b-bd97-4d23f0923242 button.colab-df-generate');\n",
              "      buttonEl.style.display =\n",
              "        google.colab.kernel.accessAllowed ? 'block' : 'none';\n",
              "\n",
              "      buttonEl.onclick = () => {\n",
              "        google.colab.notebook.generateWithVariable('trial_results');\n",
              "      }\n",
              "      })();\n",
              "    </script>\n",
              "  </div>\n",
              "\n",
              "    </div>\n",
              "  </div>\n"
            ],
            "application/vnd.google.colaboratory.intrinsic+json": {
              "type": "dataframe",
              "variable_name": "trial_results",
              "repr_error": "Out of range float values are not JSON compliant: nan"
            }
          },
          "metadata": {},
          "execution_count": 23
        }
      ]
    }
  ],
  "metadata": {
    "colab": {
      "collapsed_sections": [
        "mK-Uv-XpCni3",
        "zqJEbyaqCwO1"
      ],
      "provenance": []
    },
    "kernelspec": {
      "display_name": "Python 3",
      "name": "python3"
    },
    "language_info": {
      "name": "python"
    }
  },
  "nbformat": 4,
  "nbformat_minor": 0
}